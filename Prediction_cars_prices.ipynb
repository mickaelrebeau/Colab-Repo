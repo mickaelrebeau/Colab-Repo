{
  "nbformat": 4,
  "nbformat_minor": 0,
  "metadata": {
    "colab": {
      "provenance": [],
      "include_colab_link": true
    },
    "kernelspec": {
      "name": "python3",
      "display_name": "Python 3"
    }
  },
  "cells": [
    {
      "cell_type": "markdown",
      "metadata": {
        "id": "view-in-github",
        "colab_type": "text"
      },
      "source": [
        "<a href=\"https://colab.research.google.com/github/mickaelrebeau/Colab-Repo/blob/main/Prediction_cars_prices.ipynb\" target=\"_parent\"><img src=\"https://colab.research.google.com/assets/colab-badge.svg\" alt=\"Open In Colab\"/></a>"
      ]
    },
    {
      "cell_type": "markdown",
      "metadata": {
        "id": "daDogKG8SH5r"
      },
      "source": [
        "score, cross validation, gridsearch ou randomize search."
      ]
    },
    {
      "cell_type": "markdown",
      "metadata": {
        "id": "iVe4QdKmSZEu"
      },
      "source": [
        "# Importation des modules"
      ]
    },
    {
      "cell_type": "code",
      "metadata": {
        "id": "_oi_KBfpXWvM"
      },
      "source": [
        "# Pour lire un csv depuis drive\n",
        "!pip install -U -q PyDrive\n",
        "from pydrive.auth import GoogleAuth\n",
        "from pydrive.drive import GoogleDrive\n",
        "from google.colab import auth\n",
        "from oauth2client.client import GoogleCredentials"
      ],
      "execution_count": null,
      "outputs": []
    },
    {
      "cell_type": "code",
      "metadata": {
        "id": "gcQEER48SBiq"
      },
      "source": [
        "# Modules de base\n",
        "import pandas as pd\n",
        "import matplotlib\n",
        "import matplotlib.pyplot as plt\n",
        "import seaborn as sns\n",
        "import numpy as np\n",
        "from pandas import DataFrame\n",
        "import math\n",
        "import re as re\n",
        "%matplotlib inline"
      ],
      "execution_count": null,
      "outputs": []
    },
    {
      "cell_type": "code",
      "metadata": {
        "id": "f1UPpQyilmln"
      },
      "source": [
        "#warnings\n",
        "import warnings\n",
        "warnings.filterwarnings('ignore')"
      ],
      "execution_count": null,
      "outputs": []
    },
    {
      "cell_type": "code",
      "metadata": {
        "id": "BhF224_US2LT"
      },
      "source": [
        "# Machine Learning\n",
        "from sklearn.model_selection import train_test_split\n",
        "from sklearn.neighbors import KNeighborsClassifier\n",
        "from sklearn.ensemble import RandomForestClassifier\n",
        "from sklearn.tree import DecisionTreeClassifier\n",
        "from sklearn.svm import SVC\n",
        "from sklearn.metrics import classification_report, confusion_matrix, r2_score\n",
        "from sklearn.svm import SVR\n",
        "from sklearn.model_selection import GridSearchCV\n",
        "from sklearn.model_selection import RandomizedSearchCV\n",
        "from sklearn.model_selection import KFold\n",
        "from sklearn.model_selection import cross_val_score"
      ],
      "execution_count": null,
      "outputs": []
    },
    {
      "cell_type": "markdown",
      "metadata": {
        "id": "Wop2k-u9Sil6"
      },
      "source": [
        "# Importation du dataset"
      ]
    },
    {
      "cell_type": "code",
      "metadata": {
        "id": "FWCoMo-UXbkc",
        "colab": {
          "base_uri": "https://localhost:8080/",
          "height": 539
        },
        "outputId": "e92478c4-9a34-4e8b-81d7-d0a364832124"
      },
      "source": [
        "auth.authenticate_user()\n",
        "gauth = GoogleAuth()\n",
        "gauth.credentials = GoogleCredentials.get_application_default()\n",
        "drive = GoogleDrive(gauth)"
      ],
      "execution_count": null,
      "outputs": [
        {
          "output_type": "error",
          "ename": "KeyboardInterrupt",
          "evalue": "ignored",
          "traceback": [
            "\u001b[0;31m---------------------------------------------------------------------------\u001b[0m",
            "\u001b[0;31mKeyboardInterrupt\u001b[0m                         Traceback (most recent call last)",
            "\u001b[0;32m/usr/local/lib/python3.7/dist-packages/ipykernel/kernelbase.py\u001b[0m in \u001b[0;36m_input_request\u001b[0;34m(self, prompt, ident, parent, password)\u001b[0m\n\u001b[1;32m    728\u001b[0m             \u001b[0;32mtry\u001b[0m\u001b[0;34m:\u001b[0m\u001b[0;34m\u001b[0m\u001b[0;34m\u001b[0m\u001b[0m\n\u001b[0;32m--> 729\u001b[0;31m                 \u001b[0mident\u001b[0m\u001b[0;34m,\u001b[0m \u001b[0mreply\u001b[0m \u001b[0;34m=\u001b[0m \u001b[0mself\u001b[0m\u001b[0;34m.\u001b[0m\u001b[0msession\u001b[0m\u001b[0;34m.\u001b[0m\u001b[0mrecv\u001b[0m\u001b[0;34m(\u001b[0m\u001b[0mself\u001b[0m\u001b[0;34m.\u001b[0m\u001b[0mstdin_socket\u001b[0m\u001b[0;34m,\u001b[0m \u001b[0;36m0\u001b[0m\u001b[0;34m)\u001b[0m\u001b[0;34m\u001b[0m\u001b[0;34m\u001b[0m\u001b[0m\n\u001b[0m\u001b[1;32m    730\u001b[0m             \u001b[0;32mexcept\u001b[0m \u001b[0mException\u001b[0m\u001b[0;34m:\u001b[0m\u001b[0;34m\u001b[0m\u001b[0;34m\u001b[0m\u001b[0m\n",
            "\u001b[0;32m/usr/local/lib/python3.7/dist-packages/jupyter_client/session.py\u001b[0m in \u001b[0;36mrecv\u001b[0;34m(self, socket, mode, content, copy)\u001b[0m\n\u001b[1;32m    802\u001b[0m         \u001b[0;32mtry\u001b[0m\u001b[0;34m:\u001b[0m\u001b[0;34m\u001b[0m\u001b[0;34m\u001b[0m\u001b[0m\n\u001b[0;32m--> 803\u001b[0;31m             \u001b[0mmsg_list\u001b[0m \u001b[0;34m=\u001b[0m \u001b[0msocket\u001b[0m\u001b[0;34m.\u001b[0m\u001b[0mrecv_multipart\u001b[0m\u001b[0;34m(\u001b[0m\u001b[0mmode\u001b[0m\u001b[0;34m,\u001b[0m \u001b[0mcopy\u001b[0m\u001b[0;34m=\u001b[0m\u001b[0mcopy\u001b[0m\u001b[0;34m)\u001b[0m\u001b[0;34m\u001b[0m\u001b[0;34m\u001b[0m\u001b[0m\n\u001b[0m\u001b[1;32m    804\u001b[0m         \u001b[0;32mexcept\u001b[0m \u001b[0mzmq\u001b[0m\u001b[0;34m.\u001b[0m\u001b[0mZMQError\u001b[0m \u001b[0;32mas\u001b[0m \u001b[0me\u001b[0m\u001b[0;34m:\u001b[0m\u001b[0;34m\u001b[0m\u001b[0;34m\u001b[0m\u001b[0m\n",
            "\u001b[0;32m/usr/local/lib/python3.7/dist-packages/zmq/sugar/socket.py\u001b[0m in \u001b[0;36mrecv_multipart\u001b[0;34m(self, flags, copy, track)\u001b[0m\n\u001b[1;32m    582\u001b[0m         \"\"\"\n\u001b[0;32m--> 583\u001b[0;31m         \u001b[0mparts\u001b[0m \u001b[0;34m=\u001b[0m \u001b[0;34m[\u001b[0m\u001b[0mself\u001b[0m\u001b[0;34m.\u001b[0m\u001b[0mrecv\u001b[0m\u001b[0;34m(\u001b[0m\u001b[0mflags\u001b[0m\u001b[0;34m,\u001b[0m \u001b[0mcopy\u001b[0m\u001b[0;34m=\u001b[0m\u001b[0mcopy\u001b[0m\u001b[0;34m,\u001b[0m \u001b[0mtrack\u001b[0m\u001b[0;34m=\u001b[0m\u001b[0mtrack\u001b[0m\u001b[0;34m)\u001b[0m\u001b[0;34m]\u001b[0m\u001b[0;34m\u001b[0m\u001b[0;34m\u001b[0m\u001b[0m\n\u001b[0m\u001b[1;32m    584\u001b[0m         \u001b[0;31m# have first part already, only loop while more to receive\u001b[0m\u001b[0;34m\u001b[0m\u001b[0;34m\u001b[0m\u001b[0;34m\u001b[0m\u001b[0m\n",
            "\u001b[0;32mzmq/backend/cython/socket.pyx\u001b[0m in \u001b[0;36mzmq.backend.cython.socket.Socket.recv\u001b[0;34m()\u001b[0m\n",
            "\u001b[0;32mzmq/backend/cython/socket.pyx\u001b[0m in \u001b[0;36mzmq.backend.cython.socket.Socket.recv\u001b[0;34m()\u001b[0m\n",
            "\u001b[0;32mzmq/backend/cython/socket.pyx\u001b[0m in \u001b[0;36mzmq.backend.cython.socket._recv_copy\u001b[0;34m()\u001b[0m\n",
            "\u001b[0;32m/usr/local/lib/python3.7/dist-packages/zmq/backend/cython/checkrc.pxd\u001b[0m in \u001b[0;36mzmq.backend.cython.checkrc._check_rc\u001b[0;34m()\u001b[0m\n",
            "\u001b[0;31mKeyboardInterrupt\u001b[0m: ",
            "\nDuring handling of the above exception, another exception occurred:\n",
            "\u001b[0;31mKeyboardInterrupt\u001b[0m                         Traceback (most recent call last)",
            "\u001b[0;32m<ipython-input-5-3254a9bed9fd>\u001b[0m in \u001b[0;36m<module>\u001b[0;34m()\u001b[0m\n\u001b[0;32m----> 1\u001b[0;31m \u001b[0mauth\u001b[0m\u001b[0;34m.\u001b[0m\u001b[0mauthenticate_user\u001b[0m\u001b[0;34m(\u001b[0m\u001b[0;34m)\u001b[0m\u001b[0;34m\u001b[0m\u001b[0;34m\u001b[0m\u001b[0m\n\u001b[0m\u001b[1;32m      2\u001b[0m \u001b[0mgauth\u001b[0m \u001b[0;34m=\u001b[0m \u001b[0mGoogleAuth\u001b[0m\u001b[0;34m(\u001b[0m\u001b[0;34m)\u001b[0m\u001b[0;34m\u001b[0m\u001b[0;34m\u001b[0m\u001b[0m\n\u001b[1;32m      3\u001b[0m \u001b[0mgauth\u001b[0m\u001b[0;34m.\u001b[0m\u001b[0mcredentials\u001b[0m \u001b[0;34m=\u001b[0m \u001b[0mGoogleCredentials\u001b[0m\u001b[0;34m.\u001b[0m\u001b[0mget_application_default\u001b[0m\u001b[0;34m(\u001b[0m\u001b[0;34m)\u001b[0m\u001b[0;34m\u001b[0m\u001b[0;34m\u001b[0m\u001b[0m\n\u001b[1;32m      4\u001b[0m \u001b[0mdrive\u001b[0m \u001b[0;34m=\u001b[0m \u001b[0mGoogleDrive\u001b[0m\u001b[0;34m(\u001b[0m\u001b[0mgauth\u001b[0m\u001b[0;34m)\u001b[0m\u001b[0;34m\u001b[0m\u001b[0;34m\u001b[0m\u001b[0m\n",
            "\u001b[0;32m/usr/local/lib/python3.7/dist-packages/google/colab/auth.py\u001b[0m in \u001b[0;36mauthenticate_user\u001b[0;34m(clear_output)\u001b[0m\n\u001b[1;32m    149\u001b[0m     \u001b[0mcontext_manager\u001b[0m \u001b[0;34m=\u001b[0m \u001b[0m_output\u001b[0m\u001b[0;34m.\u001b[0m\u001b[0mtemporary\u001b[0m \u001b[0;32mif\u001b[0m \u001b[0mclear_output\u001b[0m \u001b[0;32melse\u001b[0m \u001b[0m_noop\u001b[0m\u001b[0;34m\u001b[0m\u001b[0;34m\u001b[0m\u001b[0m\n\u001b[1;32m    150\u001b[0m     \u001b[0;32mwith\u001b[0m \u001b[0mcontext_manager\u001b[0m\u001b[0;34m(\u001b[0m\u001b[0;34m)\u001b[0m\u001b[0;34m:\u001b[0m\u001b[0;34m\u001b[0m\u001b[0;34m\u001b[0m\u001b[0m\n\u001b[0;32m--> 151\u001b[0;31m       \u001b[0m_gcloud_login\u001b[0m\u001b[0;34m(\u001b[0m\u001b[0;34m)\u001b[0m\u001b[0;34m\u001b[0m\u001b[0;34m\u001b[0m\u001b[0m\n\u001b[0m\u001b[1;32m    152\u001b[0m     \u001b[0m_install_adc\u001b[0m\u001b[0;34m(\u001b[0m\u001b[0;34m)\u001b[0m\u001b[0;34m\u001b[0m\u001b[0;34m\u001b[0m\u001b[0m\n\u001b[1;32m    153\u001b[0m     \u001b[0mcolab_tpu_addr\u001b[0m \u001b[0;34m=\u001b[0m \u001b[0m_os\u001b[0m\u001b[0;34m.\u001b[0m\u001b[0menviron\u001b[0m\u001b[0;34m.\u001b[0m\u001b[0mget\u001b[0m\u001b[0;34m(\u001b[0m\u001b[0;34m'COLAB_TPU_ADDR'\u001b[0m\u001b[0;34m,\u001b[0m \u001b[0;34m''\u001b[0m\u001b[0;34m)\u001b[0m\u001b[0;34m\u001b[0m\u001b[0;34m\u001b[0m\u001b[0m\n",
            "\u001b[0;32m/usr/local/lib/python3.7/dist-packages/google/colab/auth.py\u001b[0m in \u001b[0;36m_gcloud_login\u001b[0;34m()\u001b[0m\n\u001b[1;32m     93\u001b[0m     \u001b[0;31m# https://github.com/jupyter/notebook/issues/3159\u001b[0m\u001b[0;34m\u001b[0m\u001b[0;34m\u001b[0m\u001b[0;34m\u001b[0m\u001b[0m\n\u001b[1;32m     94\u001b[0m     \u001b[0mprompt\u001b[0m \u001b[0;34m=\u001b[0m \u001b[0mprompt\u001b[0m\u001b[0;34m.\u001b[0m\u001b[0mrstrip\u001b[0m\u001b[0;34m(\u001b[0m\u001b[0;34m)\u001b[0m\u001b[0;34m\u001b[0m\u001b[0;34m\u001b[0m\u001b[0m\n\u001b[0;32m---> 95\u001b[0;31m     \u001b[0mcode\u001b[0m \u001b[0;34m=\u001b[0m \u001b[0mget_code\u001b[0m\u001b[0;34m(\u001b[0m\u001b[0mprompt\u001b[0m \u001b[0;34m+\u001b[0m \u001b[0;34m' '\u001b[0m\u001b[0;34m)\u001b[0m\u001b[0;34m\u001b[0m\u001b[0;34m\u001b[0m\u001b[0m\n\u001b[0m\u001b[1;32m     96\u001b[0m     \u001b[0mgcloud_process\u001b[0m\u001b[0;34m.\u001b[0m\u001b[0mcommunicate\u001b[0m\u001b[0;34m(\u001b[0m\u001b[0mcode\u001b[0m\u001b[0;34m.\u001b[0m\u001b[0mstrip\u001b[0m\u001b[0;34m(\u001b[0m\u001b[0;34m)\u001b[0m\u001b[0;34m)\u001b[0m\u001b[0;34m\u001b[0m\u001b[0;34m\u001b[0m\u001b[0m\n\u001b[1;32m     97\u001b[0m   \u001b[0;32mfinally\u001b[0m\u001b[0;34m:\u001b[0m\u001b[0;34m\u001b[0m\u001b[0;34m\u001b[0m\u001b[0m\n",
            "\u001b[0;32m/usr/local/lib/python3.7/dist-packages/ipykernel/kernelbase.py\u001b[0m in \u001b[0;36mraw_input\u001b[0;34m(self, prompt)\u001b[0m\n\u001b[1;32m    702\u001b[0m             \u001b[0mself\u001b[0m\u001b[0;34m.\u001b[0m\u001b[0m_parent_ident\u001b[0m\u001b[0;34m,\u001b[0m\u001b[0;34m\u001b[0m\u001b[0;34m\u001b[0m\u001b[0m\n\u001b[1;32m    703\u001b[0m             \u001b[0mself\u001b[0m\u001b[0;34m.\u001b[0m\u001b[0m_parent_header\u001b[0m\u001b[0;34m,\u001b[0m\u001b[0;34m\u001b[0m\u001b[0;34m\u001b[0m\u001b[0m\n\u001b[0;32m--> 704\u001b[0;31m             \u001b[0mpassword\u001b[0m\u001b[0;34m=\u001b[0m\u001b[0;32mFalse\u001b[0m\u001b[0;34m,\u001b[0m\u001b[0;34m\u001b[0m\u001b[0;34m\u001b[0m\u001b[0m\n\u001b[0m\u001b[1;32m    705\u001b[0m         )\n\u001b[1;32m    706\u001b[0m \u001b[0;34m\u001b[0m\u001b[0m\n",
            "\u001b[0;32m/usr/local/lib/python3.7/dist-packages/ipykernel/kernelbase.py\u001b[0m in \u001b[0;36m_input_request\u001b[0;34m(self, prompt, ident, parent, password)\u001b[0m\n\u001b[1;32m    732\u001b[0m             \u001b[0;32mexcept\u001b[0m \u001b[0mKeyboardInterrupt\u001b[0m\u001b[0;34m:\u001b[0m\u001b[0;34m\u001b[0m\u001b[0;34m\u001b[0m\u001b[0m\n\u001b[1;32m    733\u001b[0m                 \u001b[0;31m# re-raise KeyboardInterrupt, to truncate traceback\u001b[0m\u001b[0;34m\u001b[0m\u001b[0;34m\u001b[0m\u001b[0;34m\u001b[0m\u001b[0m\n\u001b[0;32m--> 734\u001b[0;31m                 \u001b[0;32mraise\u001b[0m \u001b[0mKeyboardInterrupt\u001b[0m\u001b[0;34m\u001b[0m\u001b[0;34m\u001b[0m\u001b[0m\n\u001b[0m\u001b[1;32m    735\u001b[0m             \u001b[0;32melse\u001b[0m\u001b[0;34m:\u001b[0m\u001b[0;34m\u001b[0m\u001b[0;34m\u001b[0m\u001b[0m\n\u001b[1;32m    736\u001b[0m                 \u001b[0;32mbreak\u001b[0m\u001b[0;34m\u001b[0m\u001b[0;34m\u001b[0m\u001b[0m\n",
            "\u001b[0;31mKeyboardInterrupt\u001b[0m: "
          ]
        }
      ]
    },
    {
      "cell_type": "code",
      "metadata": {
        "id": "kerjySAqTNjJ"
      },
      "source": [
        "# 'https://drive.google.com/file/d/1CoTEepAbFPR1c1V4xkaYKZB4l85teqQk/view?usp=sharing'\n",
        "fileDownload = drive.CreateFile({'id':'1CoTEepAbFPR1c1V4xkaYKZB4l85teqQk'})"
      ],
      "execution_count": null,
      "outputs": []
    },
    {
      "cell_type": "code",
      "metadata": {
        "id": "zFTNxsLxW1dn"
      },
      "source": [
        "fileDownload.GetContentFile('fullspecs.csv')"
      ],
      "execution_count": null,
      "outputs": []
    },
    {
      "cell_type": "code",
      "metadata": {
        "id": "gUbLk2D1zTrA"
      },
      "source": [
        "url = 'https://drive.google.com/file/d/1CoTEepAbFPR1c1V4xkaYKZB4l85teqQk/view?usp=sharing'\n",
        "path = 'https://drive.google.com/uc?export=download&id='+url.split('/')[-2]\n",
        "df= pd.read_csv(path, low_memory=False, index_col=0, header=None).T"
      ],
      "execution_count": null,
      "outputs": []
    },
    {
      "cell_type": "code",
      "metadata": {
        "id": "Htcq0zfJW2Oe",
        "colab": {
          "base_uri": "https://localhost:8080/",
          "height": 382
        },
        "outputId": "e1dd69e3-a2f9-4652-cfe9-a40aa8e22b2f"
      },
      "source": [
        "df = pd.read_csv('fullspecs.csv', header=0, index_col=0).T"
      ],
      "execution_count": null,
      "outputs": [
        {
          "output_type": "error",
          "ename": "FileNotFoundError",
          "evalue": "ignored",
          "traceback": [
            "\u001b[0;31m---------------------------------------------------------------------------\u001b[0m",
            "\u001b[0;31mFileNotFoundError\u001b[0m                         Traceback (most recent call last)",
            "\u001b[0;32m<ipython-input-11-f385330c70dc>\u001b[0m in \u001b[0;36m<module>\u001b[0;34m()\u001b[0m\n\u001b[0;32m----> 1\u001b[0;31m \u001b[0mdf\u001b[0m \u001b[0;34m=\u001b[0m \u001b[0mpd\u001b[0m\u001b[0;34m.\u001b[0m\u001b[0mread_csv\u001b[0m\u001b[0;34m(\u001b[0m\u001b[0;34m'fullspecs.csv'\u001b[0m\u001b[0;34m,\u001b[0m \u001b[0mheader\u001b[0m\u001b[0;34m=\u001b[0m\u001b[0;36m0\u001b[0m\u001b[0;34m,\u001b[0m \u001b[0mindex_col\u001b[0m\u001b[0;34m=\u001b[0m\u001b[0;36m0\u001b[0m\u001b[0;34m)\u001b[0m\u001b[0;34m.\u001b[0m\u001b[0mT\u001b[0m\u001b[0;34m\u001b[0m\u001b[0;34m\u001b[0m\u001b[0m\n\u001b[0m",
            "\u001b[0;32m/usr/local/lib/python3.7/dist-packages/pandas/io/parsers.py\u001b[0m in \u001b[0;36mread_csv\u001b[0;34m(filepath_or_buffer, sep, delimiter, header, names, index_col, usecols, squeeze, prefix, mangle_dupe_cols, dtype, engine, converters, true_values, false_values, skipinitialspace, skiprows, skipfooter, nrows, na_values, keep_default_na, na_filter, verbose, skip_blank_lines, parse_dates, infer_datetime_format, keep_date_col, date_parser, dayfirst, cache_dates, iterator, chunksize, compression, thousands, decimal, lineterminator, quotechar, quoting, doublequote, escapechar, comment, encoding, dialect, error_bad_lines, warn_bad_lines, delim_whitespace, low_memory, memory_map, float_precision)\u001b[0m\n\u001b[1;32m    686\u001b[0m     )\n\u001b[1;32m    687\u001b[0m \u001b[0;34m\u001b[0m\u001b[0m\n\u001b[0;32m--> 688\u001b[0;31m     \u001b[0;32mreturn\u001b[0m \u001b[0m_read\u001b[0m\u001b[0;34m(\u001b[0m\u001b[0mfilepath_or_buffer\u001b[0m\u001b[0;34m,\u001b[0m \u001b[0mkwds\u001b[0m\u001b[0;34m)\u001b[0m\u001b[0;34m\u001b[0m\u001b[0;34m\u001b[0m\u001b[0m\n\u001b[0m\u001b[1;32m    689\u001b[0m \u001b[0;34m\u001b[0m\u001b[0m\n\u001b[1;32m    690\u001b[0m \u001b[0;34m\u001b[0m\u001b[0m\n",
            "\u001b[0;32m/usr/local/lib/python3.7/dist-packages/pandas/io/parsers.py\u001b[0m in \u001b[0;36m_read\u001b[0;34m(filepath_or_buffer, kwds)\u001b[0m\n\u001b[1;32m    452\u001b[0m \u001b[0;34m\u001b[0m\u001b[0m\n\u001b[1;32m    453\u001b[0m     \u001b[0;31m# Create the parser.\u001b[0m\u001b[0;34m\u001b[0m\u001b[0;34m\u001b[0m\u001b[0;34m\u001b[0m\u001b[0m\n\u001b[0;32m--> 454\u001b[0;31m     \u001b[0mparser\u001b[0m \u001b[0;34m=\u001b[0m \u001b[0mTextFileReader\u001b[0m\u001b[0;34m(\u001b[0m\u001b[0mfp_or_buf\u001b[0m\u001b[0;34m,\u001b[0m \u001b[0;34m**\u001b[0m\u001b[0mkwds\u001b[0m\u001b[0;34m)\u001b[0m\u001b[0;34m\u001b[0m\u001b[0;34m\u001b[0m\u001b[0m\n\u001b[0m\u001b[1;32m    455\u001b[0m \u001b[0;34m\u001b[0m\u001b[0m\n\u001b[1;32m    456\u001b[0m     \u001b[0;32mif\u001b[0m \u001b[0mchunksize\u001b[0m \u001b[0;32mor\u001b[0m \u001b[0miterator\u001b[0m\u001b[0;34m:\u001b[0m\u001b[0;34m\u001b[0m\u001b[0;34m\u001b[0m\u001b[0m\n",
            "\u001b[0;32m/usr/local/lib/python3.7/dist-packages/pandas/io/parsers.py\u001b[0m in \u001b[0;36m__init__\u001b[0;34m(self, f, engine, **kwds)\u001b[0m\n\u001b[1;32m    946\u001b[0m             \u001b[0mself\u001b[0m\u001b[0;34m.\u001b[0m\u001b[0moptions\u001b[0m\u001b[0;34m[\u001b[0m\u001b[0;34m\"has_index_names\"\u001b[0m\u001b[0;34m]\u001b[0m \u001b[0;34m=\u001b[0m \u001b[0mkwds\u001b[0m\u001b[0;34m[\u001b[0m\u001b[0;34m\"has_index_names\"\u001b[0m\u001b[0;34m]\u001b[0m\u001b[0;34m\u001b[0m\u001b[0;34m\u001b[0m\u001b[0m\n\u001b[1;32m    947\u001b[0m \u001b[0;34m\u001b[0m\u001b[0m\n\u001b[0;32m--> 948\u001b[0;31m         \u001b[0mself\u001b[0m\u001b[0;34m.\u001b[0m\u001b[0m_make_engine\u001b[0m\u001b[0;34m(\u001b[0m\u001b[0mself\u001b[0m\u001b[0;34m.\u001b[0m\u001b[0mengine\u001b[0m\u001b[0;34m)\u001b[0m\u001b[0;34m\u001b[0m\u001b[0;34m\u001b[0m\u001b[0m\n\u001b[0m\u001b[1;32m    949\u001b[0m \u001b[0;34m\u001b[0m\u001b[0m\n\u001b[1;32m    950\u001b[0m     \u001b[0;32mdef\u001b[0m \u001b[0mclose\u001b[0m\u001b[0;34m(\u001b[0m\u001b[0mself\u001b[0m\u001b[0;34m)\u001b[0m\u001b[0;34m:\u001b[0m\u001b[0;34m\u001b[0m\u001b[0;34m\u001b[0m\u001b[0m\n",
            "\u001b[0;32m/usr/local/lib/python3.7/dist-packages/pandas/io/parsers.py\u001b[0m in \u001b[0;36m_make_engine\u001b[0;34m(self, engine)\u001b[0m\n\u001b[1;32m   1178\u001b[0m     \u001b[0;32mdef\u001b[0m \u001b[0m_make_engine\u001b[0m\u001b[0;34m(\u001b[0m\u001b[0mself\u001b[0m\u001b[0;34m,\u001b[0m \u001b[0mengine\u001b[0m\u001b[0;34m=\u001b[0m\u001b[0;34m\"c\"\u001b[0m\u001b[0;34m)\u001b[0m\u001b[0;34m:\u001b[0m\u001b[0;34m\u001b[0m\u001b[0;34m\u001b[0m\u001b[0m\n\u001b[1;32m   1179\u001b[0m         \u001b[0;32mif\u001b[0m \u001b[0mengine\u001b[0m \u001b[0;34m==\u001b[0m \u001b[0;34m\"c\"\u001b[0m\u001b[0;34m:\u001b[0m\u001b[0;34m\u001b[0m\u001b[0;34m\u001b[0m\u001b[0m\n\u001b[0;32m-> 1180\u001b[0;31m             \u001b[0mself\u001b[0m\u001b[0;34m.\u001b[0m\u001b[0m_engine\u001b[0m \u001b[0;34m=\u001b[0m \u001b[0mCParserWrapper\u001b[0m\u001b[0;34m(\u001b[0m\u001b[0mself\u001b[0m\u001b[0;34m.\u001b[0m\u001b[0mf\u001b[0m\u001b[0;34m,\u001b[0m \u001b[0;34m**\u001b[0m\u001b[0mself\u001b[0m\u001b[0;34m.\u001b[0m\u001b[0moptions\u001b[0m\u001b[0;34m)\u001b[0m\u001b[0;34m\u001b[0m\u001b[0;34m\u001b[0m\u001b[0m\n\u001b[0m\u001b[1;32m   1181\u001b[0m         \u001b[0;32melse\u001b[0m\u001b[0;34m:\u001b[0m\u001b[0;34m\u001b[0m\u001b[0;34m\u001b[0m\u001b[0m\n\u001b[1;32m   1182\u001b[0m             \u001b[0;32mif\u001b[0m \u001b[0mengine\u001b[0m \u001b[0;34m==\u001b[0m \u001b[0;34m\"python\"\u001b[0m\u001b[0;34m:\u001b[0m\u001b[0;34m\u001b[0m\u001b[0;34m\u001b[0m\u001b[0m\n",
            "\u001b[0;32m/usr/local/lib/python3.7/dist-packages/pandas/io/parsers.py\u001b[0m in \u001b[0;36m__init__\u001b[0;34m(self, src, **kwds)\u001b[0m\n\u001b[1;32m   2008\u001b[0m         \u001b[0mkwds\u001b[0m\u001b[0;34m[\u001b[0m\u001b[0;34m\"usecols\"\u001b[0m\u001b[0;34m]\u001b[0m \u001b[0;34m=\u001b[0m \u001b[0mself\u001b[0m\u001b[0;34m.\u001b[0m\u001b[0musecols\u001b[0m\u001b[0;34m\u001b[0m\u001b[0;34m\u001b[0m\u001b[0m\n\u001b[1;32m   2009\u001b[0m \u001b[0;34m\u001b[0m\u001b[0m\n\u001b[0;32m-> 2010\u001b[0;31m         \u001b[0mself\u001b[0m\u001b[0;34m.\u001b[0m\u001b[0m_reader\u001b[0m \u001b[0;34m=\u001b[0m \u001b[0mparsers\u001b[0m\u001b[0;34m.\u001b[0m\u001b[0mTextReader\u001b[0m\u001b[0;34m(\u001b[0m\u001b[0msrc\u001b[0m\u001b[0;34m,\u001b[0m \u001b[0;34m**\u001b[0m\u001b[0mkwds\u001b[0m\u001b[0;34m)\u001b[0m\u001b[0;34m\u001b[0m\u001b[0;34m\u001b[0m\u001b[0m\n\u001b[0m\u001b[1;32m   2011\u001b[0m         \u001b[0mself\u001b[0m\u001b[0;34m.\u001b[0m\u001b[0munnamed_cols\u001b[0m \u001b[0;34m=\u001b[0m \u001b[0mself\u001b[0m\u001b[0;34m.\u001b[0m\u001b[0m_reader\u001b[0m\u001b[0;34m.\u001b[0m\u001b[0munnamed_cols\u001b[0m\u001b[0;34m\u001b[0m\u001b[0;34m\u001b[0m\u001b[0m\n\u001b[1;32m   2012\u001b[0m \u001b[0;34m\u001b[0m\u001b[0m\n",
            "\u001b[0;32mpandas/_libs/parsers.pyx\u001b[0m in \u001b[0;36mpandas._libs.parsers.TextReader.__cinit__\u001b[0;34m()\u001b[0m\n",
            "\u001b[0;32mpandas/_libs/parsers.pyx\u001b[0m in \u001b[0;36mpandas._libs.parsers.TextReader._setup_parser_source\u001b[0;34m()\u001b[0m\n",
            "\u001b[0;31mFileNotFoundError\u001b[0m: [Errno 2] No such file or directory: 'fullspecs.csv'"
          ]
        }
      ]
    },
    {
      "cell_type": "markdown",
      "metadata": {
        "id": "KdkDhPO2aq_q"
      },
      "source": [
        "# Exploration du dataframe"
      ]
    },
    {
      "cell_type": "code",
      "metadata": {
        "id": "I00jp7Ct8ZOP"
      },
      "source": [
        "url = 'https://drive.google.com/file/d/1CoTEepAbFPR1c1V4xkaYKZB4l85teqQk/view?usp=sharing'\n",
        "path = 'https://drive.google.com/uc?export=download&id='+url.split('/')[-2]\n",
        "df = pd.read_csv(path, low_memory=False, index_col=0, header=None).T"
      ],
      "execution_count": null,
      "outputs": []
    },
    {
      "cell_type": "code",
      "metadata": {
        "colab": {
          "base_uri": "https://localhost:8080/"
        },
        "id": "OPG6vUcxdNHg",
        "outputId": "41bd89db-76d0-40ca-c884-b0ea114329c9"
      },
      "source": [
        "# Vérification du nombre de lignes et de colonnes\n",
        "df.shape"
      ],
      "execution_count": null,
      "outputs": [
        {
          "output_type": "execute_result",
          "data": {
            "text/plain": [
              "(32316, 235)"
            ]
          },
          "metadata": {
            "tags": []
          },
          "execution_count": 14
        }
      ]
    },
    {
      "cell_type": "code",
      "metadata": {
        "id": "We5y24i8LotE",
        "colab": {
          "base_uri": "https://localhost:8080/"
        },
        "outputId": "38664a48-aa7e-464d-a01e-b3cbc9430169"
      },
      "source": [
        "# Nombre de valeurs nulles \n",
        "df.isnull().sum()"
      ],
      "execution_count": null,
      "outputs": [
        {
          "output_type": "execute_result",
          "data": {
            "text/plain": [
              "0\n",
              "NaN                                    0\n",
              "MSRP                                  54\n",
              "Gas Mileage                         6024\n",
              "Engine                              1975\n",
              "EPA Class                           1976\n",
              "                                   ...  \n",
              "Fifth Head Room (in)               32316\n",
              "Fifth Hip Room (in)                32316\n",
              "Fifth Leg Room (in)                32316\n",
              "Corrosion Note                     32209\n",
              "Hybrid/Electric Components Note    32247\n",
              "Length: 235, dtype: int64"
            ]
          },
          "metadata": {
            "tags": []
          },
          "execution_count": 15
        }
      ]
    },
    {
      "cell_type": "code",
      "metadata": {
        "colab": {
          "base_uri": "https://localhost:8080/",
          "height": 707
        },
        "id": "XDwY6gvvdXjO",
        "outputId": "1b5ea329-9be9-40c2-804c-06a4731c38fd"
      },
      "source": [
        "# Aspect du dataframe\n",
        "df.head()"
      ],
      "execution_count": null,
      "outputs": [
        {
          "output_type": "execute_result",
          "data": {
            "text/html": [
              "<div>\n",
              "<style scoped>\n",
              "    .dataframe tbody tr th:only-of-type {\n",
              "        vertical-align: middle;\n",
              "    }\n",
              "\n",
              "    .dataframe tbody tr th {\n",
              "        vertical-align: top;\n",
              "    }\n",
              "\n",
              "    .dataframe thead th {\n",
              "        text-align: right;\n",
              "    }\n",
              "</style>\n",
              "<table border=\"1\" class=\"dataframe\">\n",
              "  <thead>\n",
              "    <tr style=\"text-align: right;\">\n",
              "      <th></th>\n",
              "      <th>NaN</th>\n",
              "      <th>MSRP</th>\n",
              "      <th>Gas Mileage</th>\n",
              "      <th>Engine</th>\n",
              "      <th>EPA Class</th>\n",
              "      <th>Style Name</th>\n",
              "      <th>Drivetrain</th>\n",
              "      <th>Passenger Capacity</th>\n",
              "      <th>Passenger Doors</th>\n",
              "      <th>Body Style</th>\n",
              "      <th>Transmission</th>\n",
              "      <th>EPA Classification</th>\n",
              "      <th>Base Curb Weight (lbs)</th>\n",
              "      <th>Front Hip Room (in)</th>\n",
              "      <th>Front Leg Room (in)</th>\n",
              "      <th>Second Shoulder Room (in)</th>\n",
              "      <th>Passenger Volume (ft³)</th>\n",
              "      <th>Second Head Room (in)</th>\n",
              "      <th>Front Shoulder Room (in)</th>\n",
              "      <th>Second Hip Room (in)</th>\n",
              "      <th>Front Head Room (in)</th>\n",
              "      <th>Second Leg Room (in)</th>\n",
              "      <th>Wheelbase (in)</th>\n",
              "      <th>Min Ground Clearance (in)</th>\n",
              "      <th>Track Width, Front (in)</th>\n",
              "      <th>Width, Max w/o mirrors (in)</th>\n",
              "      <th>Track Width, Rear (in)</th>\n",
              "      <th>Height, Overall (in)</th>\n",
              "      <th>Cargo Volume to Seat 1 (ft³)</th>\n",
              "      <th>Cargo Volume to Seat 2 (ft³)</th>\n",
              "      <th>Cargo Volume to Seat 3 (ft³)</th>\n",
              "      <th>Fuel Tank Capacity, Approx (gal)</th>\n",
              "      <th>Fuel Economy Est-Combined (MPG)</th>\n",
              "      <th>EPA Fuel Economy Est - City (MPG)</th>\n",
              "      <th>EPA Fuel Economy Est - Hwy (MPG)</th>\n",
              "      <th>Engine Order Code</th>\n",
              "      <th>SAE Net Torque @ RPM</th>\n",
              "      <th>Fuel System</th>\n",
              "      <th>Engine Type</th>\n",
              "      <th>SAE Net Horsepower @ RPM</th>\n",
              "      <th>...</th>\n",
              "      <th>Steering Ratio (:1), On Center</th>\n",
              "      <th>Steering Ratio (:1), At Lock</th>\n",
              "      <th>Spare Tire Capacity (lbs)</th>\n",
              "      <th>Front Tire Capacity (lbs)</th>\n",
              "      <th>Revolutions/Mile @ 45 mph - Spare</th>\n",
              "      <th>Revolutions/Mile @ 45 mph - Front</th>\n",
              "      <th>Rear Tire Capacity (lbs)</th>\n",
              "      <th>Revolutions/Mile @ 45 mph - Rear</th>\n",
              "      <th>Axle Capacity - Front (lbs)</th>\n",
              "      <th>Spring Capacity - Front (lbs)</th>\n",
              "      <th>Axle Capacity - Rear (lbs)</th>\n",
              "      <th>Spring Capacity - Rear (lbs)</th>\n",
              "      <th>Maximum Alternator Watts</th>\n",
              "      <th>Fifth Wheel Hitch - Max Trailer Wt. (lbs)</th>\n",
              "      <th>Fifth Wheel Hitch - Max Tongue Wt. (lbs)</th>\n",
              "      <th>Length, Overall w/o rear bumper (in)</th>\n",
              "      <th>Front Bumper to Back of Cab (in)</th>\n",
              "      <th>Frame Width, Rear (in)</th>\n",
              "      <th>Cab to Axle (in)</th>\n",
              "      <th>Overhang, Rear w/o bumper (in)</th>\n",
              "      <th>Ground to Top of Frame (in)</th>\n",
              "      <th>Cab to End of Frame (in)</th>\n",
              "      <th>Cargo Box Width @ Top, Rear (in)</th>\n",
              "      <th>Cargo Volume (ft³)</th>\n",
              "      <th>Cargo Box Width @ Floor (in)</th>\n",
              "      <th>Ext'd Cab Cargo Volume (ft³)</th>\n",
              "      <th>Cargo Box Length @ Floor (in)</th>\n",
              "      <th>Tailgate Width (in)</th>\n",
              "      <th>Drivetrain Note</th>\n",
              "      <th>Emissions Note</th>\n",
              "      <th>Fourth Hip Room (in)</th>\n",
              "      <th>Fourth Leg Room (in)</th>\n",
              "      <th>Fourth Shoulder Room (in)</th>\n",
              "      <th>Fourth Head Room (in)</th>\n",
              "      <th>Fifth Shoulder Room (in)</th>\n",
              "      <th>Fifth Head Room (in)</th>\n",
              "      <th>Fifth Hip Room (in)</th>\n",
              "      <th>Fifth Leg Room (in)</th>\n",
              "      <th>Corrosion Note</th>\n",
              "      <th>Hybrid/Electric Components Note</th>\n",
              "    </tr>\n",
              "  </thead>\n",
              "  <tbody>\n",
              "    <tr>\n",
              "      <th>1</th>\n",
              "      <td>2019 Acura RDX Specs: FWD w/Technology Pkg</td>\n",
              "      <td>$40,600</td>\n",
              "      <td>22 mpg City/28 mpg Hwy</td>\n",
              "      <td>Turbo Premium Unleaded I-4, 2.0 L</td>\n",
              "      <td>Small Sport Utility Vehicles 2WD</td>\n",
              "      <td>FWD w/Technology Pkg</td>\n",
              "      <td>Front Wheel Drive</td>\n",
              "      <td>5</td>\n",
              "      <td>4</td>\n",
              "      <td>Sport Utility</td>\n",
              "      <td>Transmission: 10-Speed Automatic -inc: sequent...</td>\n",
              "      <td>Small Sport Utility Vehicles 2WD</td>\n",
              "      <td>3790</td>\n",
              "      <td>55</td>\n",
              "      <td>41.6</td>\n",
              "      <td>56.6</td>\n",
              "      <td>104</td>\n",
              "      <td>38.3</td>\n",
              "      <td>59.7</td>\n",
              "      <td>49.9</td>\n",
              "      <td>39.6</td>\n",
              "      <td>38.4</td>\n",
              "      <td>108.3</td>\n",
              "      <td>5.7</td>\n",
              "      <td>64.2</td>\n",
              "      <td>74.8</td>\n",
              "      <td>64.7</td>\n",
              "      <td>65.7</td>\n",
              "      <td>58.9</td>\n",
              "      <td>29.5</td>\n",
              "      <td>29.5</td>\n",
              "      <td>17.1</td>\n",
              "      <td>24</td>\n",
              "      <td>22</td>\n",
              "      <td>28</td>\n",
              "      <td>NaN</td>\n",
              "      <td>280 @ 1600</td>\n",
              "      <td>Gasoline Direct Injection</td>\n",
              "      <td>Turbo Premium Unleaded I-4</td>\n",
              "      <td>272 @ 6500</td>\n",
              "      <td>...</td>\n",
              "      <td>NaN</td>\n",
              "      <td>NaN</td>\n",
              "      <td>NaN</td>\n",
              "      <td>NaN</td>\n",
              "      <td>NaN</td>\n",
              "      <td>NaN</td>\n",
              "      <td>NaN</td>\n",
              "      <td>NaN</td>\n",
              "      <td>NaN</td>\n",
              "      <td>NaN</td>\n",
              "      <td>NaN</td>\n",
              "      <td>NaN</td>\n",
              "      <td>NaN</td>\n",
              "      <td>NaN</td>\n",
              "      <td>NaN</td>\n",
              "      <td>NaN</td>\n",
              "      <td>NaN</td>\n",
              "      <td>NaN</td>\n",
              "      <td>NaN</td>\n",
              "      <td>NaN</td>\n",
              "      <td>NaN</td>\n",
              "      <td>NaN</td>\n",
              "      <td>NaN</td>\n",
              "      <td>NaN</td>\n",
              "      <td>NaN</td>\n",
              "      <td>NaN</td>\n",
              "      <td>NaN</td>\n",
              "      <td>NaN</td>\n",
              "      <td>NaN</td>\n",
              "      <td>NaN</td>\n",
              "      <td>NaN</td>\n",
              "      <td>NaN</td>\n",
              "      <td>NaN</td>\n",
              "      <td>NaN</td>\n",
              "      <td>NaN</td>\n",
              "      <td>NaN</td>\n",
              "      <td>NaN</td>\n",
              "      <td>NaN</td>\n",
              "      <td>NaN</td>\n",
              "      <td>NaN</td>\n",
              "    </tr>\n",
              "    <tr>\n",
              "      <th>2</th>\n",
              "      <td>2019 Acura RDX Specs: FWD w/Advance Pkg</td>\n",
              "      <td>$45,500</td>\n",
              "      <td>22 mpg City/28 mpg Hwy</td>\n",
              "      <td>Turbo Premium Unleaded I-4, 2.0 L</td>\n",
              "      <td>Small Sport Utility Vehicles 2WD</td>\n",
              "      <td>FWD w/Advance Pkg</td>\n",
              "      <td>Front Wheel Drive</td>\n",
              "      <td>5</td>\n",
              "      <td>4</td>\n",
              "      <td>Sport Utility</td>\n",
              "      <td>Transmission: 10-Speed Automatic -inc: sequent...</td>\n",
              "      <td>Small Sport Utility Vehicles 2WD</td>\n",
              "      <td>3829</td>\n",
              "      <td>55</td>\n",
              "      <td>41.6</td>\n",
              "      <td>56.6</td>\n",
              "      <td>104</td>\n",
              "      <td>38.3</td>\n",
              "      <td>59.7</td>\n",
              "      <td>49.9</td>\n",
              "      <td>39.6</td>\n",
              "      <td>38.4</td>\n",
              "      <td>108.3</td>\n",
              "      <td>5.7</td>\n",
              "      <td>64.2</td>\n",
              "      <td>74.8</td>\n",
              "      <td>64.7</td>\n",
              "      <td>65.7</td>\n",
              "      <td>58.9</td>\n",
              "      <td>29.5</td>\n",
              "      <td>29.5</td>\n",
              "      <td>17.1</td>\n",
              "      <td>24</td>\n",
              "      <td>22</td>\n",
              "      <td>28</td>\n",
              "      <td>NaN</td>\n",
              "      <td>280 @ 1600</td>\n",
              "      <td>Gasoline Direct Injection</td>\n",
              "      <td>Turbo Premium Unleaded I-4</td>\n",
              "      <td>272 @ 6500</td>\n",
              "      <td>...</td>\n",
              "      <td>NaN</td>\n",
              "      <td>NaN</td>\n",
              "      <td>NaN</td>\n",
              "      <td>NaN</td>\n",
              "      <td>NaN</td>\n",
              "      <td>NaN</td>\n",
              "      <td>NaN</td>\n",
              "      <td>NaN</td>\n",
              "      <td>NaN</td>\n",
              "      <td>NaN</td>\n",
              "      <td>NaN</td>\n",
              "      <td>NaN</td>\n",
              "      <td>NaN</td>\n",
              "      <td>NaN</td>\n",
              "      <td>NaN</td>\n",
              "      <td>NaN</td>\n",
              "      <td>NaN</td>\n",
              "      <td>NaN</td>\n",
              "      <td>NaN</td>\n",
              "      <td>NaN</td>\n",
              "      <td>NaN</td>\n",
              "      <td>NaN</td>\n",
              "      <td>NaN</td>\n",
              "      <td>NaN</td>\n",
              "      <td>NaN</td>\n",
              "      <td>NaN</td>\n",
              "      <td>NaN</td>\n",
              "      <td>NaN</td>\n",
              "      <td>NaN</td>\n",
              "      <td>NaN</td>\n",
              "      <td>NaN</td>\n",
              "      <td>NaN</td>\n",
              "      <td>NaN</td>\n",
              "      <td>NaN</td>\n",
              "      <td>NaN</td>\n",
              "      <td>NaN</td>\n",
              "      <td>NaN</td>\n",
              "      <td>NaN</td>\n",
              "      <td>NaN</td>\n",
              "      <td>NaN</td>\n",
              "    </tr>\n",
              "    <tr>\n",
              "      <th>3</th>\n",
              "      <td>2019 Acura RDX Specs: FWD w/A-Spec Pkg</td>\n",
              "      <td>$43,600</td>\n",
              "      <td>22 mpg City/27 mpg Hwy</td>\n",
              "      <td>Turbo Premium Unleaded I-4, 2.0 L</td>\n",
              "      <td>Small Sport Utility Vehicles 2WD</td>\n",
              "      <td>FWD w/A-Spec Pkg</td>\n",
              "      <td>Front Wheel Drive</td>\n",
              "      <td>5</td>\n",
              "      <td>4</td>\n",
              "      <td>Sport Utility</td>\n",
              "      <td>Transmission: 10-Speed Automatic -inc: sequent...</td>\n",
              "      <td>Small Sport Utility Vehicles 2WD</td>\n",
              "      <td>3821</td>\n",
              "      <td>55</td>\n",
              "      <td>41.6</td>\n",
              "      <td>56.6</td>\n",
              "      <td>104</td>\n",
              "      <td>38.3</td>\n",
              "      <td>59.7</td>\n",
              "      <td>49.9</td>\n",
              "      <td>39.6</td>\n",
              "      <td>38.4</td>\n",
              "      <td>108.3</td>\n",
              "      <td>5.7</td>\n",
              "      <td>64.2</td>\n",
              "      <td>74.8</td>\n",
              "      <td>64.7</td>\n",
              "      <td>65.7</td>\n",
              "      <td>58.9</td>\n",
              "      <td>29.5</td>\n",
              "      <td>29.5</td>\n",
              "      <td>17.1</td>\n",
              "      <td>24</td>\n",
              "      <td>22</td>\n",
              "      <td>27</td>\n",
              "      <td>NaN</td>\n",
              "      <td>280 @ 1600</td>\n",
              "      <td>Gasoline Direct Injection</td>\n",
              "      <td>Turbo Premium Unleaded I-4</td>\n",
              "      <td>272 @ 6500</td>\n",
              "      <td>...</td>\n",
              "      <td>NaN</td>\n",
              "      <td>NaN</td>\n",
              "      <td>NaN</td>\n",
              "      <td>NaN</td>\n",
              "      <td>NaN</td>\n",
              "      <td>NaN</td>\n",
              "      <td>NaN</td>\n",
              "      <td>NaN</td>\n",
              "      <td>NaN</td>\n",
              "      <td>NaN</td>\n",
              "      <td>NaN</td>\n",
              "      <td>NaN</td>\n",
              "      <td>NaN</td>\n",
              "      <td>NaN</td>\n",
              "      <td>NaN</td>\n",
              "      <td>NaN</td>\n",
              "      <td>NaN</td>\n",
              "      <td>NaN</td>\n",
              "      <td>NaN</td>\n",
              "      <td>NaN</td>\n",
              "      <td>NaN</td>\n",
              "      <td>NaN</td>\n",
              "      <td>NaN</td>\n",
              "      <td>NaN</td>\n",
              "      <td>NaN</td>\n",
              "      <td>NaN</td>\n",
              "      <td>NaN</td>\n",
              "      <td>NaN</td>\n",
              "      <td>NaN</td>\n",
              "      <td>NaN</td>\n",
              "      <td>NaN</td>\n",
              "      <td>NaN</td>\n",
              "      <td>NaN</td>\n",
              "      <td>NaN</td>\n",
              "      <td>NaN</td>\n",
              "      <td>NaN</td>\n",
              "      <td>NaN</td>\n",
              "      <td>NaN</td>\n",
              "      <td>NaN</td>\n",
              "      <td>NaN</td>\n",
              "    </tr>\n",
              "    <tr>\n",
              "      <th>4</th>\n",
              "      <td>2019 Acura RDX Specs: FWD</td>\n",
              "      <td>$37,400</td>\n",
              "      <td>22 mpg City/28 mpg Hwy</td>\n",
              "      <td>Turbo Premium Unleaded I-4, 2.0 L</td>\n",
              "      <td>Small Sport Utility Vehicles 2WD</td>\n",
              "      <td>FWD</td>\n",
              "      <td>Front Wheel Drive</td>\n",
              "      <td>5</td>\n",
              "      <td>4</td>\n",
              "      <td>Sport Utility</td>\n",
              "      <td>Transmission: 10-Speed Automatic -inc: sequent...</td>\n",
              "      <td>Small Sport Utility Vehicles 2WD</td>\n",
              "      <td>3783</td>\n",
              "      <td>55</td>\n",
              "      <td>41.6</td>\n",
              "      <td>56.6</td>\n",
              "      <td>104</td>\n",
              "      <td>38.3</td>\n",
              "      <td>59.7</td>\n",
              "      <td>49.9</td>\n",
              "      <td>39.6</td>\n",
              "      <td>38.4</td>\n",
              "      <td>108.3</td>\n",
              "      <td>5.7</td>\n",
              "      <td>64.2</td>\n",
              "      <td>74.8</td>\n",
              "      <td>64.7</td>\n",
              "      <td>65.7</td>\n",
              "      <td>58.9</td>\n",
              "      <td>29.5</td>\n",
              "      <td>29.5</td>\n",
              "      <td>17.1</td>\n",
              "      <td>24</td>\n",
              "      <td>22</td>\n",
              "      <td>28</td>\n",
              "      <td>NaN</td>\n",
              "      <td>280 @ 1600</td>\n",
              "      <td>Gasoline Direct Injection</td>\n",
              "      <td>Turbo Premium Unleaded I-4</td>\n",
              "      <td>272 @ 6500</td>\n",
              "      <td>...</td>\n",
              "      <td>NaN</td>\n",
              "      <td>NaN</td>\n",
              "      <td>NaN</td>\n",
              "      <td>NaN</td>\n",
              "      <td>NaN</td>\n",
              "      <td>NaN</td>\n",
              "      <td>NaN</td>\n",
              "      <td>NaN</td>\n",
              "      <td>NaN</td>\n",
              "      <td>NaN</td>\n",
              "      <td>NaN</td>\n",
              "      <td>NaN</td>\n",
              "      <td>NaN</td>\n",
              "      <td>NaN</td>\n",
              "      <td>NaN</td>\n",
              "      <td>NaN</td>\n",
              "      <td>NaN</td>\n",
              "      <td>NaN</td>\n",
              "      <td>NaN</td>\n",
              "      <td>NaN</td>\n",
              "      <td>NaN</td>\n",
              "      <td>NaN</td>\n",
              "      <td>NaN</td>\n",
              "      <td>NaN</td>\n",
              "      <td>NaN</td>\n",
              "      <td>NaN</td>\n",
              "      <td>NaN</td>\n",
              "      <td>NaN</td>\n",
              "      <td>NaN</td>\n",
              "      <td>NaN</td>\n",
              "      <td>NaN</td>\n",
              "      <td>NaN</td>\n",
              "      <td>NaN</td>\n",
              "      <td>NaN</td>\n",
              "      <td>NaN</td>\n",
              "      <td>NaN</td>\n",
              "      <td>NaN</td>\n",
              "      <td>NaN</td>\n",
              "      <td>NaN</td>\n",
              "      <td>NaN</td>\n",
              "    </tr>\n",
              "    <tr>\n",
              "      <th>5</th>\n",
              "      <td>2019 Acura RDX Specs: AWD w/Technology Pkg</td>\n",
              "      <td>$42,600</td>\n",
              "      <td>21 mpg City/27 mpg Hwy</td>\n",
              "      <td>Turbo Premium Unleaded I-4, 2.0 L</td>\n",
              "      <td>Small Sport Utility Vehicles 4WD</td>\n",
              "      <td>AWD w/Technology Pkg</td>\n",
              "      <td>All Wheel Drive</td>\n",
              "      <td>5</td>\n",
              "      <td>4</td>\n",
              "      <td>Sport Utility</td>\n",
              "      <td>Transmission: 10-Speed Automatic -inc: sequent...</td>\n",
              "      <td>Small Sport Utility Vehicles 4WD</td>\n",
              "      <td>4026</td>\n",
              "      <td>55</td>\n",
              "      <td>41.6</td>\n",
              "      <td>56.6</td>\n",
              "      <td>104</td>\n",
              "      <td>38.3</td>\n",
              "      <td>59.7</td>\n",
              "      <td>49.9</td>\n",
              "      <td>39.6</td>\n",
              "      <td>38.4</td>\n",
              "      <td>108.3</td>\n",
              "      <td>5.7</td>\n",
              "      <td>64.2</td>\n",
              "      <td>74.8</td>\n",
              "      <td>64.7</td>\n",
              "      <td>65.7</td>\n",
              "      <td>58.9</td>\n",
              "      <td>29.5</td>\n",
              "      <td>29.5</td>\n",
              "      <td>17.1</td>\n",
              "      <td>23</td>\n",
              "      <td>21</td>\n",
              "      <td>27</td>\n",
              "      <td>NaN</td>\n",
              "      <td>280 @ 1600</td>\n",
              "      <td>Gasoline Direct Injection</td>\n",
              "      <td>Turbo Premium Unleaded I-4</td>\n",
              "      <td>272 @ 6500</td>\n",
              "      <td>...</td>\n",
              "      <td>NaN</td>\n",
              "      <td>NaN</td>\n",
              "      <td>NaN</td>\n",
              "      <td>NaN</td>\n",
              "      <td>NaN</td>\n",
              "      <td>NaN</td>\n",
              "      <td>NaN</td>\n",
              "      <td>NaN</td>\n",
              "      <td>NaN</td>\n",
              "      <td>NaN</td>\n",
              "      <td>NaN</td>\n",
              "      <td>NaN</td>\n",
              "      <td>NaN</td>\n",
              "      <td>NaN</td>\n",
              "      <td>NaN</td>\n",
              "      <td>NaN</td>\n",
              "      <td>NaN</td>\n",
              "      <td>NaN</td>\n",
              "      <td>NaN</td>\n",
              "      <td>NaN</td>\n",
              "      <td>NaN</td>\n",
              "      <td>NaN</td>\n",
              "      <td>NaN</td>\n",
              "      <td>NaN</td>\n",
              "      <td>NaN</td>\n",
              "      <td>NaN</td>\n",
              "      <td>NaN</td>\n",
              "      <td>NaN</td>\n",
              "      <td>NaN</td>\n",
              "      <td>NaN</td>\n",
              "      <td>NaN</td>\n",
              "      <td>NaN</td>\n",
              "      <td>NaN</td>\n",
              "      <td>NaN</td>\n",
              "      <td>NaN</td>\n",
              "      <td>NaN</td>\n",
              "      <td>NaN</td>\n",
              "      <td>NaN</td>\n",
              "      <td>NaN</td>\n",
              "      <td>NaN</td>\n",
              "    </tr>\n",
              "  </tbody>\n",
              "</table>\n",
              "<p>5 rows × 235 columns</p>\n",
              "</div>"
            ],
            "text/plain": [
              "0                                         NaN  ... Hybrid/Electric Components Note\n",
              "1  2019 Acura RDX Specs: FWD w/Technology Pkg  ...                             NaN\n",
              "2     2019 Acura RDX Specs: FWD w/Advance Pkg  ...                             NaN\n",
              "3      2019 Acura RDX Specs: FWD w/A-Spec Pkg  ...                             NaN\n",
              "4                   2019 Acura RDX Specs: FWD  ...                             NaN\n",
              "5  2019 Acura RDX Specs: AWD w/Technology Pkg  ...                             NaN\n",
              "\n",
              "[5 rows x 235 columns]"
            ]
          },
          "metadata": {
            "tags": []
          },
          "execution_count": 16
        }
      ]
    },
    {
      "cell_type": "code",
      "metadata": {
        "colab": {
          "base_uri": "https://localhost:8080/"
        },
        "id": "6SVTAt5o8E9G",
        "outputId": "1c34e0b4-fa81-477b-91c2-75fb3380de1d"
      },
      "source": [
        "# Valeurs de colonnes spécifiques\n",
        "df.iloc[:,100:110].isnull().sum()"
      ],
      "execution_count": null,
      "outputs": [
        {
          "output_type": "execute_result",
          "data": {
            "text/plain": [
              "0\n",
              "Basic Miles/km                         2117\n",
              "Basic Years                            2117\n",
              "Corrosion Miles/km                     3004\n",
              "Corrosion Years                        2966\n",
              "Drivetrain Miles/km                    2788\n",
              "Drivetrain Years                       2788\n",
              "Roadside Assistance Miles/km           7023\n",
              "Roadside Assistance Years              7020\n",
              "Maximum Alternator Capacity (amps)     4915\n",
              "Cold Cranking Amps @ 0° F (Primary)    6086\n",
              "dtype: int64"
            ]
          },
          "metadata": {
            "tags": []
          },
          "execution_count": 17
        }
      ]
    },
    {
      "cell_type": "markdown",
      "metadata": {
        "id": "Kp6Rxb5b_hrD"
      },
      "source": [
        "# Dataframe utilisé"
      ]
    },
    {
      "cell_type": "markdown",
      "metadata": {
        "id": "O-fWkt5D_GiT"
      },
      "source": [
        "**Récupération de 10 colonnes pour le Machine Learning**"
      ]
    },
    {
      "cell_type": "code",
      "metadata": {
        "id": "jkP5QDWyd9tc"
      },
      "source": [
        "# Sélection de 10 colonnes sans trop de valeurs nulles\n",
        "# df = df.iloc[:,[0,2,4,5,6,9,30,39,66,102]]\n",
        "df = df[[\"MSRP\", \"Engine\", \"Style Name\", \"Drivetrain\", \"Passenger Capacity\", \"Transmission\", \"Fuel Tank Capacity, Approx (gal)\", \"Displacement\", \"Front Tire Size\", \"Corrosion Years\"]]"
      ],
      "execution_count": null,
      "outputs": []
    },
    {
      "cell_type": "code",
      "metadata": {
        "colab": {
          "base_uri": "https://localhost:8080/"
        },
        "id": "fLkxAtX0jYBO",
        "outputId": "d5f91399-eb12-4534-8f2a-4f00dba22aa6"
      },
      "source": [
        "# Valeurs nulles de la nouvelle dataframe\n",
        "df.isnull().sum()"
      ],
      "execution_count": null,
      "outputs": [
        {
          "output_type": "execute_result",
          "data": {
            "text/plain": [
              "0\n",
              "MSRP                                  54\n",
              "Engine                              1975\n",
              "Style Name                             0\n",
              "Drivetrain                          1716\n",
              "Passenger Capacity                     0\n",
              "Transmission                        2714\n",
              "Fuel Tank Capacity, Approx (gal)    2137\n",
              "Displacement                        2142\n",
              "Front Tire Size                     1973\n",
              "Corrosion Years                     2966\n",
              "dtype: int64"
            ]
          },
          "metadata": {
            "tags": []
          },
          "execution_count": 19
        }
      ]
    },
    {
      "cell_type": "markdown",
      "metadata": {
        "id": "BdYsluotCW4Q"
      },
      "source": [
        "\n",
        "\n",
        "> MSRP = Le prix du véhicule\n",
        "\n",
        "> Engine = Moteur du véhicule\n",
        "\n",
        "> Style name = Nombre de roue motrice\n",
        "\n",
        "> Drivetrain = Transmission\n",
        "\n",
        "> Passenger Capacity = Nombre de sièges\n",
        "\n",
        "> Transmission = Boîte de vitesse\n",
        "\n",
        "> Fuel tank capacity = Réservoir d'essence en gallon\n",
        "\n",
        "> Displacement = Litres aux 100\n",
        "\n",
        "> Front tire size = Tailles des roue avant\n",
        "\n",
        "> Corrosion years = Année avant corrosion\n",
        "\n",
        "\n"
      ]
    },
    {
      "cell_type": "markdown",
      "metadata": {
        "id": "4w7KYIKmE-VU"
      },
      "source": [
        "# Nétoyage des données"
      ]
    },
    {
      "cell_type": "markdown",
      "metadata": {
        "id": "dEvXMjpdFVUY"
      },
      "source": [
        "**Les valeurs nulles du prix des véhicules**"
      ]
    },
    {
      "cell_type": "code",
      "metadata": {
        "id": "NK9m0u3a8oVd",
        "colab": {
          "base_uri": "https://localhost:8080/",
          "height": 424
        },
        "outputId": "4bd27e3e-6580-4322-91d2-c8ff7ea3e9e9"
      },
      "source": [
        "df"
      ],
      "execution_count": null,
      "outputs": [
        {
          "output_type": "execute_result",
          "data": {
            "text/html": [
              "<div>\n",
              "<style scoped>\n",
              "    .dataframe tbody tr th:only-of-type {\n",
              "        vertical-align: middle;\n",
              "    }\n",
              "\n",
              "    .dataframe tbody tr th {\n",
              "        vertical-align: top;\n",
              "    }\n",
              "\n",
              "    .dataframe thead th {\n",
              "        text-align: right;\n",
              "    }\n",
              "</style>\n",
              "<table border=\"1\" class=\"dataframe\">\n",
              "  <thead>\n",
              "    <tr style=\"text-align: right;\">\n",
              "      <th></th>\n",
              "      <th>MSRP</th>\n",
              "      <th>Engine</th>\n",
              "      <th>Style Name</th>\n",
              "      <th>Drivetrain</th>\n",
              "      <th>Passenger Capacity</th>\n",
              "      <th>Transmission</th>\n",
              "      <th>Fuel Tank Capacity, Approx (gal)</th>\n",
              "      <th>Displacement</th>\n",
              "      <th>Front Tire Size</th>\n",
              "      <th>Corrosion Years</th>\n",
              "    </tr>\n",
              "  </thead>\n",
              "  <tbody>\n",
              "    <tr>\n",
              "      <th>1</th>\n",
              "      <td>$40,600</td>\n",
              "      <td>Turbo Premium Unleaded I-4, 2.0 L</td>\n",
              "      <td>FWD w/Technology Pkg</td>\n",
              "      <td>Front Wheel Drive</td>\n",
              "      <td>5</td>\n",
              "      <td>Transmission: 10-Speed Automatic -inc: sequent...</td>\n",
              "      <td>17.1</td>\n",
              "      <td>2.0 L/122</td>\n",
              "      <td>P235/55HR19</td>\n",
              "      <td>5</td>\n",
              "    </tr>\n",
              "    <tr>\n",
              "      <th>2</th>\n",
              "      <td>$45,500</td>\n",
              "      <td>Turbo Premium Unleaded I-4, 2.0 L</td>\n",
              "      <td>FWD w/Advance Pkg</td>\n",
              "      <td>Front Wheel Drive</td>\n",
              "      <td>5</td>\n",
              "      <td>Transmission: 10-Speed Automatic -inc: sequent...</td>\n",
              "      <td>17.1</td>\n",
              "      <td>2.0 L/122</td>\n",
              "      <td>P235/55HR19</td>\n",
              "      <td>5</td>\n",
              "    </tr>\n",
              "    <tr>\n",
              "      <th>3</th>\n",
              "      <td>$43,600</td>\n",
              "      <td>Turbo Premium Unleaded I-4, 2.0 L</td>\n",
              "      <td>FWD w/A-Spec Pkg</td>\n",
              "      <td>Front Wheel Drive</td>\n",
              "      <td>5</td>\n",
              "      <td>Transmission: 10-Speed Automatic -inc: sequent...</td>\n",
              "      <td>17.1</td>\n",
              "      <td>2.0 L/122</td>\n",
              "      <td>P255/45VR20</td>\n",
              "      <td>5</td>\n",
              "    </tr>\n",
              "    <tr>\n",
              "      <th>4</th>\n",
              "      <td>$37,400</td>\n",
              "      <td>Turbo Premium Unleaded I-4, 2.0 L</td>\n",
              "      <td>FWD</td>\n",
              "      <td>Front Wheel Drive</td>\n",
              "      <td>5</td>\n",
              "      <td>Transmission: 10-Speed Automatic -inc: sequent...</td>\n",
              "      <td>17.1</td>\n",
              "      <td>2.0 L/122</td>\n",
              "      <td>P235/55HR19</td>\n",
              "      <td>5</td>\n",
              "    </tr>\n",
              "    <tr>\n",
              "      <th>5</th>\n",
              "      <td>$42,600</td>\n",
              "      <td>Turbo Premium Unleaded I-4, 2.0 L</td>\n",
              "      <td>AWD w/Technology Pkg</td>\n",
              "      <td>All Wheel Drive</td>\n",
              "      <td>5</td>\n",
              "      <td>Transmission: 10-Speed Automatic -inc: sequent...</td>\n",
              "      <td>17.1</td>\n",
              "      <td>2.0 L/122</td>\n",
              "      <td>P235/55HR19</td>\n",
              "      <td>5</td>\n",
              "    </tr>\n",
              "    <tr>\n",
              "      <th>...</th>\n",
              "      <td>...</td>\n",
              "      <td>...</td>\n",
              "      <td>...</td>\n",
              "      <td>...</td>\n",
              "      <td>...</td>\n",
              "      <td>...</td>\n",
              "      <td>...</td>\n",
              "      <td>...</td>\n",
              "      <td>...</td>\n",
              "      <td>...</td>\n",
              "    </tr>\n",
              "    <tr>\n",
              "      <th>32312</th>\n",
              "      <td>$45,700</td>\n",
              "      <td>Intercooled Turbo Regular Unleaded I-4, 2.0 L</td>\n",
              "      <td>T5 AWD Platinum</td>\n",
              "      <td>All Wheel Drive</td>\n",
              "      <td>5</td>\n",
              "      <td>Transmission: 8-Speed Geartronic Automatic -in...</td>\n",
              "      <td>17.8</td>\n",
              "      <td>2.0 L/120</td>\n",
              "      <td>P235/50VR18</td>\n",
              "      <td>12</td>\n",
              "    </tr>\n",
              "    <tr>\n",
              "      <th>32313</th>\n",
              "      <td>$41,200</td>\n",
              "      <td>Intercooled Turbo Regular Unleaded I-5, 2.5 L</td>\n",
              "      <td>4dr Wgn T5 AWD</td>\n",
              "      <td>All Wheel Drive</td>\n",
              "      <td>5</td>\n",
              "      <td>Transmission: 6-Speed Geartronic Automatic -in...</td>\n",
              "      <td>17.8</td>\n",
              "      <td>2.5 L/154</td>\n",
              "      <td>P235/50VR18</td>\n",
              "      <td>12</td>\n",
              "    </tr>\n",
              "    <tr>\n",
              "      <th>32314</th>\n",
              "      <td>$44,850</td>\n",
              "      <td>Intercooled Turbo Regular Unleaded I-5, 2.5 L</td>\n",
              "      <td>4dr Wgn T5 Platinum AWD</td>\n",
              "      <td>All Wheel Drive</td>\n",
              "      <td>5</td>\n",
              "      <td>Transmission: 6-Speed Geartronic Automatic -in...</td>\n",
              "      <td>17.8</td>\n",
              "      <td>2.5 L/154</td>\n",
              "      <td>P235/50VR18</td>\n",
              "      <td>12</td>\n",
              "    </tr>\n",
              "    <tr>\n",
              "      <th>32315</th>\n",
              "      <td>$41,000</td>\n",
              "      <td>Intercooled Turbo Regular Unleaded I-5, 2.5 L</td>\n",
              "      <td>2015.5 4dr Wgn T5 AWD</td>\n",
              "      <td>All Wheel Drive</td>\n",
              "      <td>5</td>\n",
              "      <td>Transmission: 6-Speed Geartronic Automatic -in...</td>\n",
              "      <td>17.8</td>\n",
              "      <td>2.5 L/154</td>\n",
              "      <td>P235/50VR18</td>\n",
              "      <td>12</td>\n",
              "    </tr>\n",
              "    <tr>\n",
              "      <th>32316</th>\n",
              "      <td>$44,650</td>\n",
              "      <td>Intercooled Turbo Regular Unleaded I-5, 2.5 L</td>\n",
              "      <td>2015.5 4dr Wgn T5 Platinum AWD</td>\n",
              "      <td>All Wheel Drive</td>\n",
              "      <td>5</td>\n",
              "      <td>Transmission: 6-Speed Geartronic Automatic -in...</td>\n",
              "      <td>17.8</td>\n",
              "      <td>2.5 L/154</td>\n",
              "      <td>P235/50VR18</td>\n",
              "      <td>12</td>\n",
              "    </tr>\n",
              "  </tbody>\n",
              "</table>\n",
              "<p>32316 rows × 10 columns</p>\n",
              "</div>"
            ],
            "text/plain": [
              "0         MSRP  ... Corrosion Years\n",
              "1      $40,600  ...               5\n",
              "2      $45,500  ...               5\n",
              "3      $43,600  ...               5\n",
              "4      $37,400  ...               5\n",
              "5      $42,600  ...               5\n",
              "...        ...  ...             ...\n",
              "32312  $45,700  ...              12\n",
              "32313  $41,200  ...              12\n",
              "32314  $44,850  ...              12\n",
              "32315  $41,000  ...              12\n",
              "32316  $44,650  ...              12\n",
              "\n",
              "[32316 rows x 10 columns]"
            ]
          },
          "metadata": {
            "tags": []
          },
          "execution_count": 20
        }
      ]
    },
    {
      "cell_type": "code",
      "metadata": {
        "colab": {
          "base_uri": "https://localhost:8080/"
        },
        "id": "VcpdAmec5hKF",
        "outputId": "89cd2548-c8b7-453f-d2c2-451f45a54976"
      },
      "source": [
        "df['MSRP'].describe()"
      ],
      "execution_count": null,
      "outputs": [
        {
          "output_type": "execute_result",
          "data": {
            "text/plain": [
              "count       32262\n",
              "unique      10228\n",
              "top       $29,995\n",
              "freq           64\n",
              "Name: MSRP, dtype: object"
            ]
          },
          "metadata": {
            "tags": []
          },
          "execution_count": 21
        }
      ]
    },
    {
      "cell_type": "code",
      "metadata": {
        "id": "VTGlAxS4FPh3"
      },
      "source": [
        "# Transformation du prix en valeur float\n",
        "df['Prix'] = df['MSRP'].str.replace('$','')\n",
        "df['Prix'] = df['Prix'].str.replace(',','')\n",
        "df['Prix'] = df['Prix'].astype(float)"
      ],
      "execution_count": null,
      "outputs": []
    },
    {
      "cell_type": "code",
      "metadata": {
        "id": "0dqTVz_LSfOo",
        "colab": {
          "base_uri": "https://localhost:8080/"
        },
        "outputId": "68c064b2-2f4b-47ca-82ed-83d3fd7305f9"
      },
      "source": [
        "df['Prix'].describe()"
      ],
      "execution_count": null,
      "outputs": [
        {
          "output_type": "execute_result",
          "data": {
            "text/plain": [
              "count     32262.000000\n",
              "mean      37707.459426\n",
              "std       32392.375762\n",
              "min        6929.000000\n",
              "25%       23140.000000\n",
              "50%       30557.500000\n",
              "75%       40758.750000\n",
              "max      548800.000000\n",
              "Name: Prix, dtype: float64"
            ]
          },
          "metadata": {
            "tags": []
          },
          "execution_count": 23
        }
      ]
    },
    {
      "cell_type": "code",
      "metadata": {
        "id": "GdFzWsO5UOp2"
      },
      "source": [
        "# Remplacement des valeurs nulle par la moyenne\n",
        "df[\"Prix\"].fillna(df.groupby(\"Passenger Capacity\")[\"Prix\"].transform(\"median\"), inplace=True)"
      ],
      "execution_count": null,
      "outputs": []
    },
    {
      "cell_type": "code",
      "metadata": {
        "id": "sKzZtiF8b5D7",
        "colab": {
          "base_uri": "https://localhost:8080/"
        },
        "outputId": "798421de-0dda-4a7d-e93a-1ce791965109"
      },
      "source": [
        "df[\"Prix\"]"
      ],
      "execution_count": null,
      "outputs": [
        {
          "output_type": "execute_result",
          "data": {
            "text/plain": [
              "1        40600.0\n",
              "2        45500.0\n",
              "3        43600.0\n",
              "4        37400.0\n",
              "5        42600.0\n",
              "          ...   \n",
              "32312    45700.0\n",
              "32313    41200.0\n",
              "32314    44850.0\n",
              "32315    41000.0\n",
              "32316    44650.0\n",
              "Name: Prix, Length: 32316, dtype: float64"
            ]
          },
          "metadata": {
            "tags": []
          },
          "execution_count": 25
        }
      ]
    },
    {
      "cell_type": "code",
      "metadata": {
        "id": "SlmcsYiLbg4f"
      },
      "source": [
        "df.drop(columns='MSRP',inplace=True)"
      ],
      "execution_count": null,
      "outputs": []
    },
    {
      "cell_type": "markdown",
      "metadata": {
        "id": "TQIkYsgcGXyj"
      },
      "source": [
        "**Suppression de lignes**"
      ]
    },
    {
      "cell_type": "code",
      "metadata": {
        "id": "6bsEZc4eGgmh"
      },
      "source": [
        "df.dropna(subset=['Corrosion Years'], inplace=True)"
      ],
      "execution_count": null,
      "outputs": []
    },
    {
      "cell_type": "code",
      "metadata": {
        "id": "AAGCMB2TV2Rg"
      },
      "source": [
        "df.dropna(subset=['Transmission'], inplace=True)"
      ],
      "execution_count": null,
      "outputs": []
    },
    {
      "cell_type": "markdown",
      "metadata": {
        "id": "_9o_mNMJVzCs"
      },
      "source": [
        "**Les valeurs nulles de la motorisation**"
      ]
    },
    {
      "cell_type": "code",
      "metadata": {
        "id": "5TaUL9uoU0hw",
        "colab": {
          "base_uri": "https://localhost:8080/"
        },
        "outputId": "7a34f6a2-3046-48f2-f452-7ae9176d0c31"
      },
      "source": [
        "df['Engine'].describe()"
      ],
      "execution_count": null,
      "outputs": [
        {
          "output_type": "execute_result",
          "data": {
            "text/plain": [
              "count            27308\n",
              "unique             431\n",
              "top       Gas V8, 6.0L\n",
              "freq              1025\n",
              "Name: Engine, dtype: object"
            ]
          },
          "metadata": {
            "tags": []
          },
          "execution_count": 29
        }
      ]
    },
    {
      "cell_type": "code",
      "metadata": {
        "id": "V0SDu7IBZCnU"
      },
      "source": [
        "df['Engine'].fillna(value='Gas V8, 6.0L',inplace=True)"
      ],
      "execution_count": null,
      "outputs": []
    },
    {
      "cell_type": "code",
      "metadata": {
        "id": "530lzzKBXA7e",
        "colab": {
          "base_uri": "https://localhost:8080/"
        },
        "outputId": "56c01565-c1a0-487e-df17-b626b5d14ff7"
      },
      "source": [
        "df['Engine'].isnull().sum()"
      ],
      "execution_count": null,
      "outputs": [
        {
          "output_type": "execute_result",
          "data": {
            "text/plain": [
              "0"
            ]
          },
          "metadata": {
            "tags": []
          },
          "execution_count": 31
        }
      ]
    },
    {
      "cell_type": "markdown",
      "metadata": {
        "id": "eqSW2AccZmBe"
      },
      "source": [
        "**Les valeurs nulles de la tailles de roue avant**"
      ]
    },
    {
      "cell_type": "code",
      "metadata": {
        "id": "jN6RiqBHZtHB",
        "colab": {
          "base_uri": "https://localhost:8080/"
        },
        "outputId": "c116875e-32e1-4b90-a024-7129dc7de366"
      },
      "source": [
        "df['Front Tire Size'].describe()"
      ],
      "execution_count": null,
      "outputs": [
        {
          "output_type": "execute_result",
          "data": {
            "text/plain": [
              "count          27310\n",
              "unique           832\n",
              "top       P265/70R17\n",
              "freq             701\n",
              "Name: Front Tire Size, dtype: object"
            ]
          },
          "metadata": {
            "tags": []
          },
          "execution_count": 32
        }
      ]
    },
    {
      "cell_type": "code",
      "metadata": {
        "id": "kcbIaCfSZ0MR"
      },
      "source": [
        "df['Front Tire Size'].fillna(value='P265/70R17',inplace=True)"
      ],
      "execution_count": null,
      "outputs": []
    },
    {
      "cell_type": "code",
      "metadata": {
        "id": "YsbihJU8Z_si",
        "colab": {
          "base_uri": "https://localhost:8080/"
        },
        "outputId": "52fd5591-9f7d-4b87-cf99-32b45cff7cd6"
      },
      "source": [
        "df['Front Tire Size'].isnull().sum()"
      ],
      "execution_count": null,
      "outputs": [
        {
          "output_type": "execute_result",
          "data": {
            "text/plain": [
              "0"
            ]
          },
          "metadata": {
            "tags": []
          },
          "execution_count": 34
        }
      ]
    },
    {
      "cell_type": "markdown",
      "metadata": {
        "id": "zUN4o24UaEkZ"
      },
      "source": [
        "**Les valeurs nulles du réservoir d'essence**"
      ]
    },
    {
      "cell_type": "code",
      "metadata": {
        "id": "H9Woon95aJWx",
        "colab": {
          "base_uri": "https://localhost:8080/"
        },
        "outputId": "884b39fc-65c1-454a-ae7e-381b4a0a384c"
      },
      "source": [
        "df['Fuel Tank Capacity, Approx (gal)'].describe()"
      ],
      "execution_count": null,
      "outputs": [
        {
          "output_type": "execute_result",
          "data": {
            "text/plain": [
              "count     27231\n",
              "unique      232\n",
              "top          26\n",
              "freq       2183\n",
              "Name: Fuel Tank Capacity, Approx (gal), dtype: object"
            ]
          },
          "metadata": {
            "tags": []
          },
          "execution_count": 35
        }
      ]
    },
    {
      "cell_type": "code",
      "metadata": {
        "id": "dpSGo3kbaYB8"
      },
      "source": [
        "df['Fuel Tank Capacity, Approx (gal)'].fillna(value='26.0',inplace=True)"
      ],
      "execution_count": null,
      "outputs": []
    },
    {
      "cell_type": "code",
      "metadata": {
        "id": "GoV6dObpalxG",
        "colab": {
          "base_uri": "https://localhost:8080/"
        },
        "outputId": "d352900a-4065-427e-deb1-4dbd43ba1502"
      },
      "source": [
        "df['Fuel Tank Capacity, Approx (gal)'].isnull().sum()"
      ],
      "execution_count": null,
      "outputs": [
        {
          "output_type": "execute_result",
          "data": {
            "text/plain": [
              "0"
            ]
          },
          "metadata": {
            "tags": []
          },
          "execution_count": 37
        }
      ]
    },
    {
      "cell_type": "markdown",
      "metadata": {
        "id": "HJC30xW5a1TI"
      },
      "source": [
        "**Les valeurs nulles du litre aux 100**"
      ]
    },
    {
      "cell_type": "code",
      "metadata": {
        "id": "92J20eI-a7PN",
        "colab": {
          "base_uri": "https://localhost:8080/"
        },
        "outputId": "095ef379-6ab4-46db-db01-ceda1f7840d3"
      },
      "source": [
        "df['Displacement'].describe()"
      ],
      "execution_count": null,
      "outputs": [
        {
          "output_type": "execute_result",
          "data": {
            "text/plain": [
              "count         27226\n",
              "unique          399\n",
              "top       2.0 L/122\n",
              "freq            928\n",
              "Name: Displacement, dtype: object"
            ]
          },
          "metadata": {
            "tags": []
          },
          "execution_count": 38
        }
      ]
    },
    {
      "cell_type": "code",
      "metadata": {
        "id": "a0qYG-d2bNL5"
      },
      "source": [
        "df['Displacement'].fillna(value='2.0 L/122',inplace=True)"
      ],
      "execution_count": null,
      "outputs": []
    },
    {
      "cell_type": "code",
      "metadata": {
        "id": "ki2xoI1ObXHJ",
        "colab": {
          "base_uri": "https://localhost:8080/"
        },
        "outputId": "8f4c5056-d709-4942-ecb2-85e4a626e7bb"
      },
      "source": [
        "df['Displacement'].isnull().sum()"
      ],
      "execution_count": null,
      "outputs": [
        {
          "output_type": "execute_result",
          "data": {
            "text/plain": [
              "0"
            ]
          },
          "metadata": {
            "tags": []
          },
          "execution_count": 40
        }
      ]
    },
    {
      "cell_type": "markdown",
      "metadata": {
        "id": "brSQMLN9b8PB"
      },
      "source": [
        "**Plus aucunnes valeurs nulles**"
      ]
    },
    {
      "cell_type": "code",
      "metadata": {
        "id": "xfKafjqUTgez",
        "colab": {
          "base_uri": "https://localhost:8080/"
        },
        "outputId": "ffcc20cc-21c9-4061-d92b-46c1e2f9cff1"
      },
      "source": [
        "df.isnull().sum()"
      ],
      "execution_count": null,
      "outputs": [
        {
          "output_type": "execute_result",
          "data": {
            "text/plain": [
              "0\n",
              "Engine                              0\n",
              "Style Name                          0\n",
              "Drivetrain                          0\n",
              "Passenger Capacity                  0\n",
              "Transmission                        0\n",
              "Fuel Tank Capacity, Approx (gal)    0\n",
              "Displacement                        0\n",
              "Front Tire Size                     0\n",
              "Corrosion Years                     0\n",
              "Prix                                0\n",
              "dtype: int64"
            ]
          },
          "metadata": {
            "tags": []
          },
          "execution_count": 41
        }
      ]
    },
    {
      "cell_type": "code",
      "metadata": {
        "id": "IfaHi0JJcBcm",
        "colab": {
          "base_uri": "https://localhost:8080/"
        },
        "outputId": "45e4dc7e-9f3f-4159-ee19-e0606e8b18f1"
      },
      "source": [
        "df.shape"
      ],
      "execution_count": null,
      "outputs": [
        {
          "output_type": "execute_result",
          "data": {
            "text/plain": [
              "(27314, 10)"
            ]
          },
          "metadata": {
            "tags": []
          },
          "execution_count": 42
        }
      ]
    },
    {
      "cell_type": "markdown",
      "metadata": {
        "id": "kdlu-8VPcLAG"
      },
      "source": [
        "# Préparation Machine Learning"
      ]
    },
    {
      "cell_type": "code",
      "metadata": {
        "id": "3JsE4Ls1dA74"
      },
      "source": [
        "#changement de type\n",
        "df['Passenger Capacity'] = df['Passenger Capacity'].astype(int)"
      ],
      "execution_count": null,
      "outputs": []
    },
    {
      "cell_type": "code",
      "metadata": {
        "id": "Y9MO6Dqli6vY"
      },
      "source": [
        "#changement de type\n",
        "df['Corrosion Years'] = df['Corrosion Years'].astype(int)"
      ],
      "execution_count": null,
      "outputs": []
    },
    {
      "cell_type": "code",
      "metadata": {
        "id": "o6662NPNhdhw"
      },
      "source": [
        "#remplacement des lettres\n",
        "df['Fuel Tank Capacity, Approx (gal)'] = df['Fuel Tank Capacity, Approx (gal)'].replace('- TBD -','26.0')"
      ],
      "execution_count": null,
      "outputs": []
    },
    {
      "cell_type": "code",
      "metadata": {
        "id": "Kn6KeiXliZvT"
      },
      "source": [
        "#retir les lettres\n",
        "df['Fuel Tank Capacity, Approx (gal)'] = df['Fuel Tank Capacity, Approx (gal)'].replace('8.03 GGE','8.03')"
      ],
      "execution_count": null,
      "outputs": []
    },
    {
      "cell_type": "code",
      "metadata": {
        "id": "WQjygqAqipn-"
      },
      "source": [
        "#chagnement de type\n",
        "df['Fuel Tank Capacity, Approx (gal)'] = df['Fuel Tank Capacity, Approx (gal)'].astype(float)"
      ],
      "execution_count": null,
      "outputs": []
    },
    {
      "cell_type": "code",
      "metadata": {
        "id": "KSj0FfZPqKb4"
      },
      "source": [
        "#transformation des valeurs de Passenger Capacity pour le ML\n",
        "df[\"Passenger Capacity\"] = df[\"Passenger Capacity\"].replace([1,2,3,4],1)\n",
        "df[\"Passenger Capacity\"] = df[\"Passenger Capacity\"].replace(5,2)\n",
        "df[\"Passenger Capacity\"] = df[\"Passenger Capacity\"].replace([6,7],3)\n",
        "df[\"Passenger Capacity\"] = df[\"Passenger Capacity\"].replace([8,9,12,15],4)"
      ],
      "execution_count": null,
      "outputs": []
    },
    {
      "cell_type": "code",
      "metadata": {
        "id": "grFhMpzKMJDi"
      },
      "source": [
        "#transformation des valeurs de Corrosion Years pour le ML\n",
        "df[\"Corrosion Years\"] = df[\"Corrosion Years\"].replace([2,3,4],1)\n",
        "df[\"Corrosion Years\"] = df[\"Corrosion Years\"].replace(5,2)\n",
        "df[\"Corrosion Years\"] = df[\"Corrosion Years\"].replace([6,7],3)\n",
        "df[\"Corrosion Years\"] = df[\"Corrosion Years\"].replace([8,10,12],4)"
      ],
      "execution_count": null,
      "outputs": []
    },
    {
      "cell_type": "code",
      "metadata": {
        "id": "ojX5uhkPNLpX"
      },
      "source": [
        "#transformation des valeurs de Drivetrain pour le ML\n",
        "df['Drivetrain'] = df['Drivetrain'].replace('Rear Wheel Drive',1)\n",
        "df['Drivetrain'] = df['Drivetrain'].replace('Front Wheel Drive',2)\n",
        "df['Drivetrain'] = df['Drivetrain'].replace('All Wheel Drive',3)\n",
        "df['Drivetrain'] = df['Drivetrain'].replace('4-Wheel Drive',4)\n",
        "df['Drivetrain'] = df['Drivetrain'].replace('Four Wheel Drive',5)\n",
        "df['Drivetrain'] = df['Drivetrain'].replace(['All-Wheel Drive','4 Wheel Drive','Front-Wheel Drive','Four-Wheel Drive','Rear wheel drive','AWD','Rear-Wheel Drive','Front wheel drive','4WD','All wheel drive','2 Wheel Drive','REAR WHEEL DRIVE','Four wheel drive','All-wheel drive','2WD','2-Wheel Drive','Front-wheel drive','RWD','4-wheel Drive'],6)      "
      ],
      "execution_count": null,
      "outputs": []
    },
    {
      "cell_type": "code",
      "metadata": {
        "id": "XI8FhsZHfujl"
      },
      "source": [
        "#Changement des valeurs pour Fuel Tank Capacity grace à qcut\n",
        "df['Fuel Tank Capacity, Approx (gal)'] = pd.qcut(df['Fuel Tank Capacity, Approx (gal)'], labels=[0,1,2,3,4], q=5)"
      ],
      "execution_count": null,
      "outputs": []
    },
    {
      "cell_type": "code",
      "metadata": {
        "id": "P6rKkxnMc_E7"
      },
      "source": [
        "df['Fuel Tank Capacity, Approx (gal)'] = df['Fuel Tank Capacity, Approx (gal)'].astype(int)"
      ],
      "execution_count": null,
      "outputs": []
    },
    {
      "cell_type": "code",
      "metadata": {
        "id": "6dbVQdTTg47a"
      },
      "source": [
        "#pour afficher plus de lignes, ici 500\n",
        "pd.set_option('display.max_rows', 500)"
      ],
      "execution_count": null,
      "outputs": []
    },
    {
      "cell_type": "code",
      "metadata": {
        "id": "xfNYDfZzp4vO",
        "colab": {
          "base_uri": "https://localhost:8080/"
        },
        "outputId": "f62da896-c9d2-4975-d9f5-3ba73a0fae50"
      },
      "source": [
        "df.nunique()"
      ],
      "execution_count": null,
      "outputs": [
        {
          "output_type": "execute_result",
          "data": {
            "text/plain": [
              "0\n",
              "Engine                               431\n",
              "Style Name                          9633\n",
              "Drivetrain                             6\n",
              "Passenger Capacity                     4\n",
              "Transmission                        1822\n",
              "Fuel Tank Capacity, Approx (gal)       5\n",
              "Displacement                         399\n",
              "Front Tire Size                      832\n",
              "Corrosion Years                        4\n",
              "Prix                                8968\n",
              "dtype: int64"
            ]
          },
          "metadata": {
            "tags": []
          },
          "execution_count": 54
        }
      ]
    },
    {
      "cell_type": "code",
      "metadata": {
        "id": "JiattY57oYXA"
      },
      "source": [
        "df['Prix'] = df['Prix'].astype(int)"
      ],
      "execution_count": null,
      "outputs": []
    },
    {
      "cell_type": "code",
      "metadata": {
        "id": "pt0vEAN8r-70",
        "colab": {
          "base_uri": "https://localhost:8080/",
          "height": 81
        },
        "outputId": "c01e8022-0796-4dea-912b-669131e14709"
      },
      "source": [
        "df.head(1)"
      ],
      "execution_count": null,
      "outputs": [
        {
          "output_type": "execute_result",
          "data": {
            "text/html": [
              "<div>\n",
              "<style scoped>\n",
              "    .dataframe tbody tr th:only-of-type {\n",
              "        vertical-align: middle;\n",
              "    }\n",
              "\n",
              "    .dataframe tbody tr th {\n",
              "        vertical-align: top;\n",
              "    }\n",
              "\n",
              "    .dataframe thead th {\n",
              "        text-align: right;\n",
              "    }\n",
              "</style>\n",
              "<table border=\"1\" class=\"dataframe\">\n",
              "  <thead>\n",
              "    <tr style=\"text-align: right;\">\n",
              "      <th></th>\n",
              "      <th>Engine</th>\n",
              "      <th>Style Name</th>\n",
              "      <th>Drivetrain</th>\n",
              "      <th>Passenger Capacity</th>\n",
              "      <th>Transmission</th>\n",
              "      <th>Fuel Tank Capacity, Approx (gal)</th>\n",
              "      <th>Displacement</th>\n",
              "      <th>Front Tire Size</th>\n",
              "      <th>Corrosion Years</th>\n",
              "      <th>Prix</th>\n",
              "    </tr>\n",
              "  </thead>\n",
              "  <tbody>\n",
              "    <tr>\n",
              "      <th>1</th>\n",
              "      <td>Turbo Premium Unleaded I-4, 2.0 L</td>\n",
              "      <td>FWD w/Technology Pkg</td>\n",
              "      <td>2</td>\n",
              "      <td>2</td>\n",
              "      <td>Transmission: 10-Speed Automatic -inc: sequent...</td>\n",
              "      <td>1</td>\n",
              "      <td>2.0 L/122</td>\n",
              "      <td>P235/55HR19</td>\n",
              "      <td>2</td>\n",
              "      <td>40600</td>\n",
              "    </tr>\n",
              "  </tbody>\n",
              "</table>\n",
              "</div>"
            ],
            "text/plain": [
              "0                             Engine  ...   Prix\n",
              "1  Turbo Premium Unleaded I-4, 2.0 L  ...  40600\n",
              "\n",
              "[1 rows x 10 columns]"
            ]
          },
          "metadata": {
            "tags": []
          },
          "execution_count": 56
        }
      ]
    },
    {
      "cell_type": "markdown",
      "metadata": {
        "id": "gcxdxIvDjWTJ"
      },
      "source": [
        "# Machine Learning"
      ]
    },
    {
      "cell_type": "code",
      "metadata": {
        "id": "1kGCoyQwjZxm"
      },
      "source": [
        "X = df.drop(columns=['Prix','Engine','Style Name','Transmission','Displacement','Front Tire Size'],axis=1)\n",
        "y = df['Prix']"
      ],
      "execution_count": null,
      "outputs": []
    },
    {
      "cell_type": "code",
      "metadata": {
        "id": "AvOiGW3Sj-Ll"
      },
      "source": [
        "X_train, X_test, y_train, y_test = train_test_split(X, y, test_size=0.4, random_state=42)"
      ],
      "execution_count": null,
      "outputs": []
    },
    {
      "cell_type": "code",
      "metadata": {
        "id": "QMwH-NNjnIBR",
        "colab": {
          "base_uri": "https://localhost:8080/",
          "height": 81
        },
        "outputId": "16d86705-c5e0-418f-a5e5-960cf1ca87af"
      },
      "source": [
        "X_train.head(1)"
      ],
      "execution_count": null,
      "outputs": [
        {
          "output_type": "execute_result",
          "data": {
            "text/html": [
              "<div>\n",
              "<style scoped>\n",
              "    .dataframe tbody tr th:only-of-type {\n",
              "        vertical-align: middle;\n",
              "    }\n",
              "\n",
              "    .dataframe tbody tr th {\n",
              "        vertical-align: top;\n",
              "    }\n",
              "\n",
              "    .dataframe thead th {\n",
              "        text-align: right;\n",
              "    }\n",
              "</style>\n",
              "<table border=\"1\" class=\"dataframe\">\n",
              "  <thead>\n",
              "    <tr style=\"text-align: right;\">\n",
              "      <th></th>\n",
              "      <th>Drivetrain</th>\n",
              "      <th>Passenger Capacity</th>\n",
              "      <th>Fuel Tank Capacity, Approx (gal)</th>\n",
              "      <th>Corrosion Years</th>\n",
              "    </tr>\n",
              "  </thead>\n",
              "  <tbody>\n",
              "    <tr>\n",
              "      <th>24901</th>\n",
              "      <td>5</td>\n",
              "      <td>3</td>\n",
              "      <td>3</td>\n",
              "      <td>2</td>\n",
              "    </tr>\n",
              "  </tbody>\n",
              "</table>\n",
              "</div>"
            ],
            "text/plain": [
              "0      Drivetrain  ...  Corrosion Years\n",
              "24901           5  ...                2\n",
              "\n",
              "[1 rows x 4 columns]"
            ]
          },
          "metadata": {
            "tags": []
          },
          "execution_count": 59
        }
      ]
    },
    {
      "cell_type": "code",
      "metadata": {
        "id": "Pj0fCCQoa6r4",
        "colab": {
          "base_uri": "https://localhost:8080/"
        },
        "outputId": "26abb135-d2ff-4830-f39e-e8cd8d9d29bf"
      },
      "source": [
        "X_train.info()"
      ],
      "execution_count": null,
      "outputs": [
        {
          "output_type": "stream",
          "text": [
            "<class 'pandas.core.frame.DataFrame'>\n",
            "Int64Index: 16388 entries, 24901 to 28126\n",
            "Data columns (total 4 columns):\n",
            " #   Column                            Non-Null Count  Dtype\n",
            "---  ------                            --------------  -----\n",
            " 0   Drivetrain                        16388 non-null  int64\n",
            " 1   Passenger Capacity                16388 non-null  int64\n",
            " 2   Fuel Tank Capacity, Approx (gal)  16388 non-null  int64\n",
            " 3   Corrosion Years                   16388 non-null  int64\n",
            "dtypes: int64(4)\n",
            "memory usage: 640.2 KB\n"
          ],
          "name": "stdout"
        }
      ]
    },
    {
      "cell_type": "code",
      "metadata": {
        "id": "KLaUtx3ZkFml"
      },
      "source": [
        "k_fold = KFold(n_splits=10, shuffle=True, random_state=0)"
      ],
      "execution_count": null,
      "outputs": []
    },
    {
      "cell_type": "code",
      "metadata": {
        "id": "D9lmWkmNkTHe"
      },
      "source": [
        "def KNN_model(k, p):\n",
        "    clf = KNeighborsClassifier(n_neighbors=k, metric='minkowski', p=p)\n",
        "    scoring = 'accuracy'\n",
        "    score = cross_val_score(clf, X_train, y_train, cv=k_fold, n_jobs=1, scoring=scoring)\n",
        "    return score"
      ],
      "execution_count": null,
      "outputs": []
    },
    {
      "cell_type": "code",
      "metadata": {
        "id": "8kCv_nbWkTnK"
      },
      "source": [
        "def plot_KNN_model():\n",
        "    p = [1,2]\n",
        "    for val in p:\n",
        "        ix= []\n",
        "        KNN_Score = []\n",
        "        for k in np.arange(3, 32, 5):\n",
        "            print(f' pour k = {k} et p = {val}, KNN Score = {round(np.mean(KNN_model(k, val))*100, 2)}')\n",
        "            ix.append(k)\n",
        "            KNN_Score.append(round(np.mean(KNN_model(k, val))*100, 2))\n",
        "        if val ==1:\n",
        "            plt.plot(ix, KNN_Score, color='red', label='Manhattan distance')\n",
        "        else:\n",
        "            plt.plot(ix, KNN_Score, color='blue', label=' Euclidean distance')\n",
        "        print('************************************************')\n",
        "        plt.legend(loc='best')\n",
        "        plt.xlabel('K')\n",
        "        plt.ylabel('KNN SCORE')"
      ],
      "execution_count": null,
      "outputs": []
    },
    {
      "cell_type": "code",
      "metadata": {
        "id": "92AOjbUVkYAc",
        "colab": {
          "base_uri": "https://localhost:8080/",
          "height": 522
        },
        "outputId": "c3ffc61f-9758-45b8-aec3-b479d8d9e752"
      },
      "source": [
        "plot_KNN_model()"
      ],
      "execution_count": null,
      "outputs": [
        {
          "output_type": "stream",
          "text": [
            " pour k = 3 et p = 1, KNN Score = 0.41\n",
            " pour k = 8 et p = 1, KNN Score = 0.4\n",
            " pour k = 13 et p = 1, KNN Score = 0.41\n",
            " pour k = 18 et p = 1, KNN Score = 0.41\n",
            " pour k = 23 et p = 1, KNN Score = 0.49\n",
            " pour k = 28 et p = 1, KNN Score = 0.5\n",
            "************************************************\n",
            " pour k = 3 et p = 2, KNN Score = 0.41\n",
            " pour k = 8 et p = 2, KNN Score = 0.4\n",
            " pour k = 13 et p = 2, KNN Score = 0.41\n",
            " pour k = 18 et p = 2, KNN Score = 0.41\n",
            " pour k = 23 et p = 2, KNN Score = 0.49\n",
            " pour k = 28 et p = 2, KNN Score = 0.5\n",
            "************************************************\n"
          ],
          "name": "stdout"
        },
        {
          "output_type": "display_data",
          "data": {
            "image/png": "[encoded data removed]",
            "text/plain": [
              "<Figure size 432x288 with 1 Axes>"
            ]
          },
          "metadata": {
            "tags": [],
            "needs_background": "light"
          }
        }
      ]
    },
    {
      "cell_type": "code",
      "metadata": {
        "id": "U0qH__CukcFw",
        "colab": {
          "base_uri": "https://localhost:8080/"
        },
        "outputId": "ab7a81a7-298b-4484-80a4-84e444132942"
      },
      "source": [
        "clf = KNeighborsClassifier(n_neighbors = 18, metric='minkowski', p = 1)\n",
        "scoring = 'accuracy'\n",
        "score = cross_val_score(clf, X_train, y_train, cv=k_fold, n_jobs=1, scoring=scoring)\n",
        "print(score)"
      ],
      "execution_count": null,
      "outputs": [
        {
          "output_type": "stream",
          "text": [
            "[0.0042709  0.00244051 0.00366077 0.00793167 0.0042709  0.00366077\n",
            " 0.00366077 0.00305064 0.003663   0.004884  ]\n"
          ],
          "name": "stdout"
        }
      ]
    },
    {
      "cell_type": "code",
      "metadata": {
        "id": "zwjzH2VnkdH8",
        "colab": {
          "base_uri": "https://localhost:8080/"
        },
        "outputId": "71c06a37-4ebd-466a-9c9e-d8b24b4378cb"
      },
      "source": [
        "round(np.mean(score)*100, 2)"
      ],
      "execution_count": null,
      "outputs": [
        {
          "output_type": "execute_result",
          "data": {
            "text/plain": [
              "0.41"
            ]
          },
          "metadata": {
            "tags": []
          },
          "execution_count": 66
        }
      ]
    },
    {
      "cell_type": "code",
      "metadata": {
        "id": "-zow519PhR-Q",
        "colab": {
          "base_uri": "https://localhost:8080/"
        },
        "outputId": "1eb7a395-3663-4ed5-a7be-15a1b4ff2f7a"
      },
      "source": [
        "#DecisionTree\n",
        "\n",
        "clf = DecisionTreeClassifier()\n",
        "scoring = 'accuracy'\n",
        "score = cross_val_score(clf, X_train, y_train, cv=k_fold, n_jobs=1, scoring=scoring)\n",
        "print(score)\n",
        "round(np.mean(score)*100, 2)"
      ],
      "execution_count": null,
      "outputs": [
        {
          "output_type": "stream",
          "text": [
            "[0.00854179 0.00732154 0.00732154 0.00732154 0.00488103 0.00793167\n",
            " 0.00732154 0.00793167 0.004884   0.00915751]\n"
          ],
          "name": "stdout"
        },
        {
          "output_type": "execute_result",
          "data": {
            "text/plain": [
              "0.73"
            ]
          },
          "metadata": {
            "tags": []
          },
          "execution_count": 67
        }
      ]
    },
    {
      "cell_type": "code",
      "metadata": {
        "id": "17K9AmFwhc0M",
        "colab": {
          "base_uri": "https://localhost:8080/"
        },
        "outputId": "763703ef-90de-4721-f69e-81d50eac6746"
      },
      "source": [
        "#RandomForest\n",
        "\n",
        "clf = RandomForestClassifier(n_estimators=13)\n",
        "scoring = 'accuracy'\n",
        "score = cross_val_score(clf, X_train, y_train, cv=k_fold, n_jobs=1, scoring=scoring)\n",
        "print(score)"
      ],
      "execution_count": null,
      "outputs": [
        {
          "output_type": "stream",
          "text": [
            "[0.00854179 0.00793167 0.00915192 0.00854179 0.00732154 0.00976205\n",
            " 0.00610128 0.00488103 0.00549451 0.00976801]\n"
          ],
          "name": "stdout"
        }
      ]
    },
    {
      "cell_type": "code",
      "metadata": {
        "id": "yotPz6dOWNJq",
        "colab": {
          "base_uri": "https://localhost:8080/"
        },
        "outputId": "3082f3d5-19a2-4c64-dffd-a1581e75e839"
      },
      "source": [
        "round(np.mean(score)*100, 2)"
      ],
      "execution_count": null,
      "outputs": [
        {
          "output_type": "execute_result",
          "data": {
            "text/plain": [
              "0.77"
            ]
          },
          "metadata": {
            "tags": []
          },
          "execution_count": 69
        }
      ]
    },
    {
      "cell_type": "code",
      "metadata": {
        "id": "mhZIePFShkD8"
      },
      "source": [
        "# #SVC\n",
        "\n",
        "# clf = SVC()\n",
        "# scoring = 'accuracy'\n",
        "# score = cross_val_score(clf, X_train, y_train, cv=k_fold, n_jobs=1, scoring=scoring)\n",
        "# print(score)\n",
        "# round(np.mean(score)*100,2)"
      ],
      "execution_count": null,
      "outputs": []
    },
    {
      "cell_type": "markdown",
      "metadata": {
        "id": "4M5ES54JwVeJ"
      },
      "source": [
        "**GridSearch**"
      ]
    },
    {
      "cell_type": "code",
      "metadata": {
        "id": "Q4w5lbS5z_JT"
      },
      "source": [
        "param_grid = {'C': [0.1, 1, 10, 100],  \n",
        "              'gamma': [1, 0.1, 0.01, 0.001, 0.0001], \n",
        "              'gamma':['scale', 'auto'],\n",
        "              'kernel': ['linear']}"
      ],
      "execution_count": null,
      "outputs": []
    },
    {
      "cell_type": "markdown",
      "metadata": {
        "id": "2gSXRqLyCDH1"
      },
      "source": [
        "Les paramètres du GridSearch ne sont pas idéaux, je n'ai pas eu le temps de trouver des paramètres optimaux."
      ]
    },
    {
      "cell_type": "code",
      "metadata": {
        "id": "ZBs2z7Efkg7c",
        "colab": {
          "base_uri": "https://localhost:8080/"
        },
        "outputId": "bca7438a-371a-427c-c76a-789b8cf34889"
      },
      "source": [
        "grid = GridSearchCV(SVR(), param_grid, refit = True, verbose = 3,n_jobs=1)\n",
        "\n",
        "grid.fit(X_train, y_train)\n",
        "\n",
        "print(grid.best_params_) \n",
        "grid_predictions = grid.predict(X_test)\n",
        "\n",
        "print(r2_score(y_test, grid_predictions)) "
      ],
      "execution_count": null,
      "outputs": [
        {
          "output_type": "stream",
          "text": [
            "Fitting 5 folds for each of 8 candidates, totalling 40 fits\n",
            "[CV] C=0.1, gamma=scale, kernel=linear ...............................\n"
          ],
          "name": "stdout"
        },
        {
          "output_type": "stream",
          "text": [
            "[Parallel(n_jobs=1)]: Using backend SequentialBackend with 1 concurrent workers.\n"
          ],
          "name": "stderr"
        },
        {
          "output_type": "stream",
          "text": [
            "[CV] .. C=0.1, gamma=scale, kernel=linear, score=-0.060, total=   8.2s\n",
            "[CV] C=0.1, gamma=scale, kernel=linear ...............................\n"
          ],
          "name": "stdout"
        },
        {
          "output_type": "stream",
          "text": [
            "[Parallel(n_jobs=1)]: Done   1 out of   1 | elapsed:    8.2s remaining:    0.0s\n"
          ],
          "name": "stderr"
        },
        {
          "output_type": "stream",
          "text": [
            "[CV] .. C=0.1, gamma=scale, kernel=linear, score=-0.044, total=   8.1s\n",
            "[CV] C=0.1, gamma=scale, kernel=linear ...............................\n"
          ],
          "name": "stdout"
        },
        {
          "output_type": "stream",
          "text": [
            "[Parallel(n_jobs=1)]: Done   2 out of   2 | elapsed:   16.3s remaining:    0.0s\n"
          ],
          "name": "stderr"
        },
        {
          "output_type": "stream",
          "text": [
            "[CV] .. C=0.1, gamma=scale, kernel=linear, score=-0.044, total=   8.1s\n",
            "[CV] C=0.1, gamma=scale, kernel=linear ...............................\n",
            "[CV] .. C=0.1, gamma=scale, kernel=linear, score=-0.046, total=   8.2s\n",
            "[CV] C=0.1, gamma=scale, kernel=linear ...............................\n",
            "[CV] .. C=0.1, gamma=scale, kernel=linear, score=-0.037, total=   8.1s\n",
            "[CV] C=0.1, gamma=auto, kernel=linear ................................\n",
            "[CV] ... C=0.1, gamma=auto, kernel=linear, score=-0.060, total=   8.1s\n",
            "[CV] C=0.1, gamma=auto, kernel=linear ................................\n",
            "[CV] ... C=0.1, gamma=auto, kernel=linear, score=-0.044, total=   8.1s\n",
            "[CV] C=0.1, gamma=auto, kernel=linear ................................\n",
            "[CV] ... C=0.1, gamma=auto, kernel=linear, score=-0.044, total=   8.1s\n",
            "[CV] C=0.1, gamma=auto, kernel=linear ................................\n",
            "[CV] ... C=0.1, gamma=auto, kernel=linear, score=-0.046, total=   8.1s\n",
            "[CV] C=0.1, gamma=auto, kernel=linear ................................\n",
            "[CV] ... C=0.1, gamma=auto, kernel=linear, score=-0.037, total=   8.1s\n",
            "[CV] C=1, gamma=scale, kernel=linear .................................\n",
            "[CV] .... C=1, gamma=scale, kernel=linear, score=-0.048, total=   7.9s\n",
            "[CV] C=1, gamma=scale, kernel=linear .................................\n",
            "[CV] .... C=1, gamma=scale, kernel=linear, score=-0.037, total=   7.9s\n",
            "[CV] C=1, gamma=scale, kernel=linear .................................\n",
            "[CV] .... C=1, gamma=scale, kernel=linear, score=-0.033, total=   7.9s\n",
            "[CV] C=1, gamma=scale, kernel=linear .................................\n",
            "[CV] .... C=1, gamma=scale, kernel=linear, score=-0.037, total=   7.9s\n",
            "[CV] C=1, gamma=scale, kernel=linear .................................\n",
            "[CV] .... C=1, gamma=scale, kernel=linear, score=-0.029, total=   7.9s\n",
            "[CV] C=1, gamma=auto, kernel=linear ..................................\n",
            "[CV] ..... C=1, gamma=auto, kernel=linear, score=-0.048, total=   7.9s\n",
            "[CV] C=1, gamma=auto, kernel=linear ..................................\n",
            "[CV] ..... C=1, gamma=auto, kernel=linear, score=-0.037, total=   7.9s\n",
            "[CV] C=1, gamma=auto, kernel=linear ..................................\n",
            "[CV] ..... C=1, gamma=auto, kernel=linear, score=-0.033, total=   7.9s\n",
            "[CV] C=1, gamma=auto, kernel=linear ..................................\n",
            "[CV] ..... C=1, gamma=auto, kernel=linear, score=-0.037, total=   7.9s\n",
            "[CV] C=1, gamma=auto, kernel=linear ..................................\n",
            "[CV] ..... C=1, gamma=auto, kernel=linear, score=-0.029, total=   7.9s\n",
            "[CV] C=10, gamma=scale, kernel=linear ................................\n",
            "[CV] ... C=10, gamma=scale, kernel=linear, score=-0.040, total=   7.9s\n",
            "[CV] C=10, gamma=scale, kernel=linear ................................\n",
            "[CV] ... C=10, gamma=scale, kernel=linear, score=-0.033, total=   7.9s\n",
            "[CV] C=10, gamma=scale, kernel=linear ................................\n",
            "[CV] ... C=10, gamma=scale, kernel=linear, score=-0.027, total=   7.9s\n",
            "[CV] C=10, gamma=scale, kernel=linear ................................\n",
            "[CV] ... C=10, gamma=scale, kernel=linear, score=-0.034, total=   7.9s\n",
            "[CV] C=10, gamma=scale, kernel=linear ................................\n",
            "[CV] ... C=10, gamma=scale, kernel=linear, score=-0.023, total=   7.9s\n",
            "[CV] C=10, gamma=auto, kernel=linear .................................\n",
            "[CV] .... C=10, gamma=auto, kernel=linear, score=-0.040, total=   7.9s\n",
            "[CV] C=10, gamma=auto, kernel=linear .................................\n",
            "[CV] .... C=10, gamma=auto, kernel=linear, score=-0.033, total=   7.9s\n",
            "[CV] C=10, gamma=auto, kernel=linear .................................\n",
            "[CV] .... C=10, gamma=auto, kernel=linear, score=-0.027, total=   7.8s\n",
            "[CV] C=10, gamma=auto, kernel=linear .................................\n",
            "[CV] .... C=10, gamma=auto, kernel=linear, score=-0.034, total=   7.9s\n",
            "[CV] C=10, gamma=auto, kernel=linear .................................\n",
            "[CV] .... C=10, gamma=auto, kernel=linear, score=-0.023, total=   7.8s\n",
            "[CV] C=100, gamma=scale, kernel=linear ...............................\n",
            "[CV] .. C=100, gamma=scale, kernel=linear, score=-0.039, total=   8.1s\n",
            "[CV] C=100, gamma=scale, kernel=linear ...............................\n",
            "[CV] .. C=100, gamma=scale, kernel=linear, score=-0.033, total=   8.2s\n",
            "[CV] C=100, gamma=scale, kernel=linear ...............................\n",
            "[CV] .. C=100, gamma=scale, kernel=linear, score=-0.026, total=   8.1s\n",
            "[CV] C=100, gamma=scale, kernel=linear ...............................\n",
            "[CV] .. C=100, gamma=scale, kernel=linear, score=-0.034, total=   8.1s\n",
            "[CV] C=100, gamma=scale, kernel=linear ...............................\n",
            "[CV] .. C=100, gamma=scale, kernel=linear, score=-0.022, total=   8.2s\n",
            "[CV] C=100, gamma=auto, kernel=linear ................................\n",
            "[CV] ... C=100, gamma=auto, kernel=linear, score=-0.039, total=   8.1s\n",
            "[CV] C=100, gamma=auto, kernel=linear ................................\n",
            "[CV] ... C=100, gamma=auto, kernel=linear, score=-0.033, total=   8.1s\n",
            "[CV] C=100, gamma=auto, kernel=linear ................................\n",
            "[CV] ... C=100, gamma=auto, kernel=linear, score=-0.026, total=   8.1s\n",
            "[CV] C=100, gamma=auto, kernel=linear ................................\n",
            "[CV] ... C=100, gamma=auto, kernel=linear, score=-0.034, total=   8.1s\n",
            "[CV] C=100, gamma=auto, kernel=linear ................................\n",
            "[CV] ... C=100, gamma=auto, kernel=linear, score=-0.022, total=   8.2s\n"
          ],
          "name": "stdout"
        },
        {
          "output_type": "stream",
          "text": [
            "[Parallel(n_jobs=1)]: Done  40 out of  40 | elapsed:  5.3min finished\n"
          ],
          "name": "stderr"
        },
        {
          "output_type": "stream",
          "text": [
            "{'C': 100, 'gamma': 'scale', 'kernel': 'linear'}\n",
            "-0.0179459468201022\n"
          ],
          "name": "stdout"
        }
      ]
    }
  ]
}